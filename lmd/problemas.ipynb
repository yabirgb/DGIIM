{
 "cells": [
  {
   "cell_type": "markdown",
   "metadata": {},
   "source": [
    "# Yábir García Benchakhtir"
   ]
  },
  {
   "cell_type": "code",
   "execution_count": null,
   "metadata": {
    "collapsed": true
   },
   "outputs": [],
   "source": [
    "numero = 78277485"
   ]
  },
  {
   "cell_type": "code",
   "execution_count": null,
   "metadata": {
    "collapsed": false
   },
   "outputs": [],
   "source": [
    "a = numero % 1000; a"
   ]
  },
  {
   "cell_type": "code",
   "execution_count": null,
   "metadata": {
    "collapsed": false
   },
   "outputs": [],
   "source": [
    "b = numero % 100; b"
   ]
  },
  {
   "cell_type": "markdown",
   "metadata": {},
   "source": [
    "## Ejercicio 1"
   ]
  },
  {
   "cell_type": "markdown",
   "metadata": {},
   "source": [
    "### 1. Calcula la b-ésima y la a-ésima cifra decimal de π."
   ]
  },
  {
   "cell_type": "code",
   "execution_count": null,
   "metadata": {
    "collapsed": false
   },
   "outputs": [],
   "source": [
    "from mpmath import mp #Librería usada para modiuficar la precision decimal de PI\n",
    "from math import sqrt"
   ]
  },
  {
   "cell_type": "code",
   "execution_count": null,
   "metadata": {
    "collapsed": false
   },
   "outputs": [],
   "source": [
    "mp.dps = 1000 #Establecer la precisión que queremos"
   ]
  },
  {
   "cell_type": "code",
   "execution_count": null,
   "metadata": {
    "collapsed": false
   },
   "outputs": [],
   "source": [
    "pi_1000 = mp.pi"
   ]
  },
  {
   "cell_type": "code",
   "execution_count": null,
   "metadata": {
    "collapsed": false
   },
   "outputs": [],
   "source": [
    "print(pi_1000)"
   ]
  },
  {
   "cell_type": "markdown",
   "metadata": {},
   "source": [
    "Convenimos que la posición decimal de las decimas está indicada con el 0."
   ]
  },
  {
   "cell_type": "code",
   "execution_count": null,
   "metadata": {
    "collapsed": false
   },
   "outputs": [],
   "source": [
    "besima = str(pi_1000)[b+2]\n",
    "print(besima)"
   ]
  },
  {
   "cell_type": "code",
   "execution_count": null,
   "metadata": {
    "collapsed": false
   },
   "outputs": [],
   "source": [
    "aesima = str(pi_1000)[a+2]\n",
    "print(aesima)"
   ]
  },
  {
   "cell_type": "markdown",
   "metadata": {},
   "source": [
    "### 2. Calcula el conjunto de los divisores naturales del número a ¿Cuánto vale la suma de todos ellos?"
   ]
  },
  {
   "cell_type": "code",
   "execution_count": null,
   "metadata": {
    "collapsed": false
   },
   "outputs": [],
   "source": [
    "#Generador de python que devuelve los divisores de un número n\n",
    "def divisores(n):\n",
    "    if n < 1:\n",
    "        raise ValueError(\"El número ha de ser natural y mayor que 0\")\n",
    "    div = [] #Complementos de numeros\n",
    "    for numero in range(1, int(sqrt(n) +1 )):\n",
    "        if n%numero == 0:\n",
    "            yield numero #Si es un divisor lo devolvemos\n",
    "            #En la siguiente iteración comprobamos si su cuadrado\n",
    "            #no es n. Simpre va a ser <= n ya\n",
    "            #que buscamos hasta la raiz del numero\n",
    "            if numero*numero != n:\n",
    "                #Si no es lo añadimos como divisor\n",
    "                div = div + [int(n/numero)]\n",
    "\n",
    "    for divisor in div:\n",
    "        yield divisor"
   ]
  },
  {
   "cell_type": "code",
   "execution_count": null,
   "metadata": {
    "collapsed": false
   },
   "outputs": [],
   "source": [
    "list(divisores(a))"
   ]
  },
  {
   "cell_type": "code",
   "execution_count": null,
   "metadata": {
    "collapsed": false
   },
   "outputs": [],
   "source": [
    "# La suma de los divisores es\n",
    "sum( list(divisores(a)) )"
   ]
  },
  {
   "cell_type": "code",
   "execution_count": null,
   "metadata": {
    "collapsed": false
   },
   "outputs": [],
   "source": [
    "# Un ejemplo para ver como sería con otro número\n",
    "list( divisores( 24 ) )"
   ]
  },
  {
   "cell_type": "code",
   "execution_count": null,
   "metadata": {
    "collapsed": false
   },
   "outputs": [],
   "source": [
    "sum( list( divisores( 24 ) ) )"
   ]
  },
  {
   "cell_type": "markdown",
   "metadata": {},
   "source": [
    "### 3. Calcula el mayor número primo menor que a y el menor número primo mayor que a. Calcula también la suma de todos los primos menores que a."
   ]
  },
  {
   "cell_type": "code",
   "execution_count": null,
   "metadata": {
    "collapsed": true
   },
   "outputs": [],
   "source": [
    "primos = [2]"
   ]
  },
  {
   "cell_type": "code",
   "execution_count": null,
   "metadata": {
    "collapsed": false
   },
   "outputs": [],
   "source": [
    "#Una lista para almacenar los primos que encontremos\n",
    "def es_primo(n):\n",
    "    if n >= 2:\n",
    "        for y in range(2,int(sqrt(n))+1):\n",
    "            if not ( n % y ):\n",
    "                return False\n",
    "    else:\n",
    "        return False\n",
    "    \n",
    "    return True\n",
    "        "
   ]
  },
  {
   "cell_type": "code",
   "execution_count": null,
   "metadata": {
    "collapsed": false
   },
   "outputs": [],
   "source": [
    "for i in range(1,920):\n",
    "    if es_primo(i):\n",
    "        primos.append(i)"
   ]
  },
  {
   "cell_type": "code",
   "execution_count": null,
   "metadata": {
    "collapsed": false
   },
   "outputs": [],
   "source": [
    "print(primos)"
   ]
  },
  {
   "cell_type": "markdown",
   "metadata": {},
   "source": [
    "**Luego el mayor primo < a es**"
   ]
  },
  {
   "cell_type": "code",
   "execution_count": null,
   "metadata": {
    "collapsed": false
   },
   "outputs": [],
   "source": [
    "primos [-1]"
   ]
  },
  {
   "cell_type": "markdown",
   "metadata": {},
   "source": [
    "Vamos a calcular ahora el menor primo > que a. Para ello vamos a recurrir a itertools que es una librería del nucleo de python que nos proporciona funciones para hacer algo próximo a la programación funcional"
   ]
  },
  {
   "cell_type": "code",
   "execution_count": null,
   "metadata": {
    "collapsed": true
   },
   "outputs": [],
   "source": [
    "from itertools import takewhile, count"
   ]
  },
  {
   "cell_type": "code",
   "execution_count": null,
   "metadata": {
    "collapsed": false
   },
   "outputs": [],
   "source": [
    "[x for x in takewhile(lambda x: not es_primo(x), count(a+1))][-1]+1\n"
   ]
  },
  {
   "cell_type": "markdown",
   "metadata": {},
   "source": [
    "** Luego el siguiente primo mayor que a es 937 **"
   ]
  },
  {
   "cell_type": "markdown",
   "metadata": {},
   "source": [
    "### 4. Calcula el número de ceros en que acaba el factorial de (1000+a)"
   ]
  },
  {
   "cell_type": "markdown",
   "metadata": {},
   "source": [
    "Una manera de calcular el factorial es usar la librería que trae python."
   ]
  },
  {
   "cell_type": "code",
   "execution_count": null,
   "metadata": {
    "collapsed": true
   },
   "outputs": [],
   "source": [
    "from math import factorial"
   ]
  },
  {
   "cell_type": "code",
   "execution_count": null,
   "metadata": {
    "collapsed": false
   },
   "outputs": [],
   "source": [
    "#factorial(1000+a)"
   ]
  },
  {
   "cell_type": "markdown",
   "metadata": {},
   "source": [
    "Tambíen podemos hacernos nuestro propio factorial"
   ]
  },
  {
   "cell_type": "code",
   "execution_count": null,
   "metadata": {
    "collapsed": false
   },
   "outputs": [],
   "source": [
    "from operator import mul\n",
    "from functools import reduce"
   ]
  },
  {
   "cell_type": "code",
   "execution_count": null,
   "metadata": {
    "collapsed": true
   },
   "outputs": [],
   "source": [
    "def factorial_mio(n):\n",
    "    return reduce(mul, range(1,n+1))"
   ]
  },
  {
   "cell_type": "code",
   "execution_count": null,
   "metadata": {
    "collapsed": false
   },
   "outputs": [],
   "source": [
    "factorial(1000+a) == factorial_mio(1000+a)"
   ]
  },
  {
   "cell_type": "markdown",
   "metadata": {},
   "source": [
    "Vemos que da el mismo resultado"
   ]
  },
  {
   "cell_type": "markdown",
   "metadata": {},
   "source": [
    "El numero de ceros en los que acaba el factorial es:"
   ]
  },
  {
   "cell_type": "code",
   "execution_count": null,
   "metadata": {
    "collapsed": false
   },
   "outputs": [],
   "source": [
    "\"\"\"\n",
    "Para buscar el número de 0 se ha procedido a convertir el número en una cadena de caracteres\n",
    "invertir la posicion de los digitos, el último pasa a ser el primero y así con el resto de dígitos,\n",
    "por último se recorre la cadena hasta que se encuentra un dígito distinto de 0\n",
    "\"\"\"\n",
    "\n",
    "total_ceros = 0\n",
    "distinto_encontrado = False\n",
    "numero = str( factorial_mio(1000+a) )[::-1]\n",
    "while not distinto_encontrado:\n",
    "    if numero[total_ceros] == '0':\n",
    "        total_ceros += 1\n",
    "    else:\n",
    "        distinto_encontrado = True\n",
    "    "
   ]
  },
  {
   "cell_type": "code",
   "execution_count": null,
   "metadata": {
    "collapsed": false
   },
   "outputs": [],
   "source": [
    "total_ceros"
   ]
  },
  {
   "cell_type": "markdown",
   "metadata": {},
   "source": [
    "## Ejercicio 2 Un número natural n es perfecto si la suma de sus divisores distintos de él vale n. Halla los números perfectos menores que 10000."
   ]
  },
  {
   "cell_type": "markdown",
   "metadata": {},
   "source": [
    "Ya tenemos una función para calcular los divisores de un número n"
   ]
  },
  {
   "cell_type": "code",
   "execution_count": null,
   "metadata": {
    "collapsed": true
   },
   "outputs": [],
   "source": [
    "def divisores(n):\n",
    "    if n < 1:\n",
    "        raise ValueError(\"El número ha de ser natural y mayor que 0\")\n",
    "    div = [] #Complementos de numeros\n",
    "    for numero in range(1, int(sqrt(n) +1 )):\n",
    "        if n%numero == 0:\n",
    "            yield numero #Si es un divisor lo devolvemos\n",
    "            #En la siguiente iteración comprobamos si su cuadrado\n",
    "            #no es n. Simpre va a ser <= n ya\n",
    "            #que buscamos hasta la raiz del numero\n",
    "            if numero*numero != n:\n",
    "                #Si no es lo añadimos como divisor\n",
    "                div = div + [int(n/numero)]\n",
    "\n",
    "    for divisor in div:\n",
    "        yield divisor"
   ]
  },
  {
   "cell_type": "markdown",
   "metadata": {},
   "source": [
    "La suma de los divisores es (incluyendo al 1 y omitiendo el propio número):"
   ]
  },
  {
   "cell_type": "code",
   "execution_count": null,
   "metadata": {
    "collapsed": false
   },
   "outputs": [],
   "source": [
    "def suma_divisores(n):\n",
    "    divis = list(divisores(n))\n",
    "    #Ahora quitamos el propio número\n",
    "    divis.remove(n)\n",
    "    return sum(divis)"
   ]
  },
  {
   "cell_type": "code",
   "execution_count": null,
   "metadata": {
    "collapsed": false
   },
   "outputs": [],
   "source": [
    "suma_divisores(24)"
   ]
  },
  {
   "cell_type": "markdown",
   "metadata": {},
   "source": [
    "Los números perfectos entre los 1000 primeos naturales son:"
   ]
  },
  {
   "cell_type": "code",
   "execution_count": null,
   "metadata": {
    "collapsed": false
   },
   "outputs": [],
   "source": [
    "[x for x in range(1,1001) if x == suma_divisores(x)]"
   ]
  },
  {
   "cell_type": "markdown",
   "metadata": {},
   "source": [
    "En total son"
   ]
  },
  {
   "cell_type": "code",
   "execution_count": null,
   "metadata": {
    "collapsed": false
   },
   "outputs": [],
   "source": [
    "len([x for x in range(1,1001) if x == suma_divisores(x)])"
   ]
  },
  {
   "cell_type": "markdown",
   "metadata": {
    "collapsed": true
   },
   "source": [
    "## Ejercicio 3 "
   ]
  },
  {
   "cell_type": "markdown",
   "metadata": {},
   "source": [
    "Demostremos que si $2^{p} -1 es primo necesariamente p es primo.\n",
    "Vamos a demostrarlo usando el contrarecíproco. \n",
    "\n",
    "Supongamos que $p$ no es primo. Por tanto lo podemos expresar como producto de dos números. Sean $m,n \\in \\mathbb{N}$ tal que $2 \\le m,n < p$ y $mn=p$. Tenemos que demostar que \"Si $p$ no es primo entonces $2^{p}-1$ tampoco es primo\".\n",
    "\n",
    "Sea $p = mn$ para $m,n \\in \\mathbb{N}$ tales que $2 \\le m,n < p$\n",
    "\n",
    "$2^{mn}-1 = (2^m)^n -1 = (2^m -1 )((2^m)^{n-1} + (2^m)^{n-1} + ...  + 2^m + 1)$\n",
    "\n",
    "por nuestra hipótesis tenemos\n",
    "\n",
    "$2 \\le 2^m -1 < 2^p -1$\n",
    "\n",
    "Así $2^m -1$ divide a $2^p -1$ y esto nos dice que $2^p -1$ es compuesto.\n",
    "\n",
    "Hemos demostrado que si p no es primo entonces $2^p -1$ tampoco lo es. Podemos afirmar pues:\n",
    "\n",
    "Si $2^p -1$ es primo, entonces $p$ es primo. \n"
   ]
  },
  {
   "cell_type": "markdown",
   "metadata": {},
   "source": [
    "Sabiendo esto, primero buscamos los primos entre los primeros 257 numeros."
   ]
  },
  {
   "cell_type": "code",
   "execution_count": null,
   "metadata": {
    "collapsed": true
   },
   "outputs": [],
   "source": [
    "primos_en_258 = []"
   ]
  },
  {
   "cell_type": "code",
   "execution_count": null,
   "metadata": {
    "collapsed": false
   },
   "outputs": [],
   "source": [
    "for i in range(1,258):\n",
    "    if es_primo(i):\n",
    "        primos_en_258.append(i)"
   ]
  },
  {
   "cell_type": "code",
   "execution_count": null,
   "metadata": {
    "collapsed": false
   },
   "outputs": [],
   "source": [
    "print(primos_en_258)"
   ]
  },
  {
   "cell_type": "markdown",
   "metadata": {},
   "source": [
    "Como comprobar si un primo de la forma $2^{p} -1$ es una tarea muy pesada cuando p crece vamos a usar el algoritmo de Lucas-Lehmer."
   ]
  },
  {
   "cell_type": "code",
   "execution_count": null,
   "metadata": {
    "collapsed": false
   },
   "outputs": [],
   "source": [
    "def LucasLehmer(p):\n",
    "    \"\"\"\n",
    "    Este algoritmo determina si 2**p-1 es primo para p >= 2\n",
    "    \"\"\"\n",
    "    if p == 2:\n",
    "        return True\n",
    "    \n",
    "    s = 4\n",
    "    M = 2**p -1\n",
    "    for i in range(3, p+1):\n",
    "        s = (s**2 -2) % M\n",
    "        \n",
    "    return s == 0\n"
   ]
  },
  {
   "cell_type": "code",
   "execution_count": null,
   "metadata": {
    "collapsed": false
   },
   "outputs": [],
   "source": [
    "lista = []\n",
    "for i in primos_en_258:\n",
    "    lista.append( (i, LucasLehmer(i) ) )"
   ]
  },
  {
   "cell_type": "code",
   "execution_count": null,
   "metadata": {
    "collapsed": false
   },
   "outputs": [],
   "source": [
    "print(lista)"
   ]
  },
  {
   "cell_type": "markdown",
   "metadata": {},
   "source": [
    "En esta lista tenemos tuplas de los primeros 258 números y si son primos de Mersenne. Los que lo cumplen son"
   ]
  },
  {
   "cell_type": "code",
   "execution_count": null,
   "metadata": {
    "collapsed": false
   },
   "outputs": [],
   "source": [
    "print([x[0] for x in lista if x[1] == True ])"
   ]
  },
  {
   "cell_type": "markdown",
   "metadata": {},
   "source": [
    "Luego Mersenne se había equivocado y la lista correcta es la anterior.\n",
    "\n",
    "Vemos que no es cierto que para todo $p$ primo $2^{p} -1$ sea primo."
   ]
  },
  {
   "cell_type": "markdown",
   "metadata": {},
   "source": [
    "## Ejercicio 4 La conjetura de Goldbach afirma que todo número natural par mayor que 3 se puede poner como la suma de dos números primos"
   ]
  },
  {
   "cell_type": "markdown",
   "metadata": {},
   "source": [
    "#### 1. Escribe (1000+2a) como suma de dos primos. Halla todas las descomposiciones posibles de (1000+2a) como suma de dos primos. ¿De cuántas formas se puede descomponer (1000+2*a) como suma de dos primos?."
   ]
  },
  {
   "cell_type": "code",
   "execution_count": null,
   "metadata": {
    "collapsed": false
   },
   "outputs": [],
   "source": [
    "numero = 1000+2*a\n",
    "print(numero)"
   ]
  },
  {
   "cell_type": "markdown",
   "metadata": {},
   "source": [
    "creamos una lista de primos hasta 1000+2a"
   ]
  },
  {
   "cell_type": "code",
   "execution_count": null,
   "metadata": {
    "collapsed": false
   },
   "outputs": [],
   "source": [
    "def lista_primos(n):\n",
    "    lista = []\n",
    "    for i in range(1,n+1):\n",
    "        if es_primo(i):\n",
    "            lista.append(i)\n",
    "    \n",
    "    return lista"
   ]
  },
  {
   "cell_type": "code",
   "execution_count": null,
   "metadata": {
    "collapsed": false
   },
   "outputs": [],
   "source": [
    "print(lista_primos(numero))"
   ]
  },
  {
   "cell_type": "code",
   "execution_count": null,
   "metadata": {
    "collapsed": false
   },
   "outputs": [],
   "source": [
    "def suma_primos(numero):\n",
    "    primos = lista_primos(numero)\n",
    "    indice_i = 0\n",
    "    indice_m = len(primos) - 1\n",
    "    while indice_i <= indice_m:\n",
    "        suma = primos[indice_i] + primos[indice_m]\n",
    "        if suma < numero:\n",
    "            indice_i += 1\n",
    "        else:\n",
    "            if suma == numero:\n",
    "                yield primos[indice_i], primos[indice_m]\n",
    "            indice_m -= 1"
   ]
  },
  {
   "cell_type": "markdown",
   "metadata": {},
   "source": [
    "#### Soluciones:\n",
    "\n",
    "* 1000+2a como suma de dos primos"
   ]
  },
  {
   "cell_type": "code",
   "execution_count": null,
   "metadata": {
    "collapsed": false
   },
   "outputs": [],
   "source": [
    "list(suma_primos(numero))[0]"
   ]
  },
  {
   "cell_type": "markdown",
   "metadata": {},
   "source": [
    "* Todas las descomposiciones como suma de primos"
   ]
  },
  {
   "cell_type": "code",
   "execution_count": null,
   "metadata": {
    "collapsed": false
   },
   "outputs": [],
   "source": [
    "print(list(suma_primos(numero)))"
   ]
  },
  {
   "cell_type": "markdown",
   "metadata": {},
   "source": [
    "* Numero de formas"
   ]
  },
  {
   "cell_type": "code",
   "execution_count": null,
   "metadata": {
    "collapsed": false
   },
   "outputs": [],
   "source": [
    "len(list(suma_primos(numero)))"
   ]
  },
  {
   "cell_type": "markdown",
   "metadata": {},
   "source": [
    "#### 2. Define la función goldbach(n) que devuelva una pareja de primos que sumen n. Define la función goldbachtotal(n) que devuelva la lista de todas las parejas de primos que sumen n. Define dgoldbach(n) que devuelva el número de descomposiciones de Goldbach que admite n."
   ]
  },
  {
   "cell_type": "code",
   "execution_count": null,
   "metadata": {
    "collapsed": true
   },
   "outputs": [],
   "source": [
    "def golbach(n):\n",
    "    primos = lista_primos(n)\n",
    "    sumas = list(suma_primos(n))\n",
    "    return sumas[0]"
   ]
  },
  {
   "cell_type": "code",
   "execution_count": null,
   "metadata": {
    "collapsed": false
   },
   "outputs": [],
   "source": [
    "golbach(12)"
   ]
  },
  {
   "cell_type": "code",
   "execution_count": null,
   "metadata": {
    "collapsed": true
   },
   "outputs": [],
   "source": [
    "def dgoldbach(n):\n",
    "    primos = lista_primos(n)\n",
    "    sumas = list(suma_primos(n))\n",
    "    return len(sumas)"
   ]
  },
  {
   "cell_type": "code",
   "execution_count": null,
   "metadata": {
    "collapsed": false
   },
   "outputs": [],
   "source": [
    "dgoldbach(24)"
   ]
  },
  {
   "cell_type": "markdown",
   "metadata": {
    "collapsed": true
   },
   "source": [
    "## Ejercicio 5"
   ]
  },
  {
   "cell_type": "code",
   "execution_count": null,
   "metadata": {
    "collapsed": true
   },
   "outputs": [],
   "source": [
    "def ackermann(m, n):\n",
    "    if m == 0:\n",
    "        return n+1\n",
    "    if n == 0:\n",
    "        return ackermann(m-1, 1)\n",
    "    return ackermann(m-1, ackermann(m, n-1))"
   ]
  },
  {
   "cell_type": "code",
   "execution_count": null,
   "metadata": {
    "collapsed": false
   },
   "outputs": [],
   "source": [
    "ackermann(3,2)"
   ]
  },
  {
   "cell_type": "markdown",
   "metadata": {},
   "source": [
    "Al intentar calcular el valor para ackermann(4,2) se desborda la pila por lo que hay que buscar otra manera de resolver el problema."
   ]
  },
  {
   "cell_type": "markdown",
   "metadata": {
    "collapsed": true
   },
   "source": [
    "Propiedades de la función de Ackermann:\n",
    "\n",
    "1. A(1, n) = n + 2\n",
    "* A(2, n) = 2 n + 3\n",
    "* A(3, n) = 2n + 3 - 3\n",
    "* A(4, n) = $2^{2^{2^{...}}} − 3$ donde el primer sumando es una potencia anidada de n + 3 niveles."
   ]
  },
  {
   "cell_type": "markdown",
   "metadata": {},
   "source": [
    "Así para el caso de ackerman(4,2) el resultado sería"
   ]
  },
  {
   "cell_type": "code",
   "execution_count": null,
   "metadata": {
    "collapsed": false
   },
   "outputs": [],
   "source": [
    "numero = 2\n",
    "n = 2\n",
    "for i in range(n+2):\n",
    "    numero = numero**2\n",
    "print(numero)"
   ]
  },
  {
   "cell_type": "markdown",
   "metadata": {},
   "source": [
    "Así Akermann(4,2) = $2^{65536} - 3 $"
   ]
  },
  {
   "cell_type": "markdown",
   "metadata": {},
   "source": [
    "## Bibliografía\n",
    "\n",
    "* https://es.wikipedia.org/wiki/Funci%C3%B3n_de_Ackermann\n",
    "* https://es.wikipedia.org/wiki/N%C3%BAmero_primo_de_Mersenne\n",
    "* https://es.wikipedia.org/wiki/Test_de_Lucas-Lehmer"
   ]
  }
 ],
 "metadata": {
  "kernelspec": {
   "display_name": "Python 3",
   "language": "python",
   "name": "python3"
  },
  "language_info": {
   "codemirror_mode": {
    "name": "ipython",
    "version": 3
   },
   "file_extension": ".py",
   "mimetype": "text/x-python",
   "name": "python",
   "nbconvert_exporter": "python",
   "pygments_lexer": "ipython3",
   "version": "3.5.2"
  }
 },
 "nbformat": 4,
 "nbformat_minor": 2
}
