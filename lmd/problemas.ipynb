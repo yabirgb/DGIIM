{
 "cells": [
  {
   "cell_type": "markdown",
   "metadata": {},
   "source": [
    "# Yábir García Benchakhtir"
   ]
  },
  {
   "cell_type": "code",
   "execution_count": 1,
   "metadata": {
    "collapsed": true
   },
   "outputs": [],
   "source": [
    "numero = 78277485"
   ]
  },
  {
   "cell_type": "code",
   "execution_count": 2,
   "metadata": {
    "collapsed": false
   },
   "outputs": [
    {
     "data": {
      "text/plain": [
       "485"
      ]
     },
     "execution_count": 2,
     "metadata": {},
     "output_type": "execute_result"
    }
   ],
   "source": [
    "a = numero % 1000; a"
   ]
  },
  {
   "cell_type": "code",
   "execution_count": 3,
   "metadata": {
    "collapsed": false
   },
   "outputs": [
    {
     "data": {
      "text/plain": [
       "85"
      ]
     },
     "execution_count": 3,
     "metadata": {},
     "output_type": "execute_result"
    }
   ],
   "source": [
    "b = numero % 100; b"
   ]
  },
  {
   "cell_type": "markdown",
   "metadata": {},
   "source": [
    "## Ejercicio 1"
   ]
  },
  {
   "cell_type": "markdown",
   "metadata": {},
   "source": [
    "### 1. Calcula la b-ésima y la a-ésima cifra decimal de π."
   ]
  },
  {
   "cell_type": "code",
   "execution_count": 4,
   "metadata": {
    "collapsed": false
   },
   "outputs": [],
   "source": [
    "from mpmath import mp #Librería usada para modiuficar la precision decimal de PI\n",
    "from math import sqrt"
   ]
  },
  {
   "cell_type": "code",
   "execution_count": 5,
   "metadata": {
    "collapsed": false
   },
   "outputs": [],
   "source": [
    "mp.dps = 1000 #Establecer la precisión que queremos"
   ]
  },
  {
   "cell_type": "code",
   "execution_count": 6,
   "metadata": {
    "collapsed": false
   },
   "outputs": [],
   "source": [
    "pi_1000 = mp.pi"
   ]
  },
  {
   "cell_type": "code",
   "execution_count": 7,
   "metadata": {
    "collapsed": false
   },
   "outputs": [
    {
     "name": "stdout",
     "output_type": "stream",
     "text": [
      "3.141592653589793238462643383279502884197169399375105820974944592307816406286208998628034825342117067982148086513282306647093844609550582231725359408128481117450284102701938521105559644622948954930381964428810975665933446128475648233786783165271201909145648566923460348610454326648213393607260249141273724587006606315588174881520920962829254091715364367892590360011330530548820466521384146951941511609433057270365759591953092186117381932611793105118548074462379962749567351885752724891227938183011949129833673362440656643086021394946395224737190702179860943702770539217176293176752384674818467669405132000568127145263560827785771342757789609173637178721468440901224953430146549585371050792279689258923542019956112129021960864034418159813629774771309960518707211349999998372978049951059731732816096318595024459455346908302642522308253344685035261931188171010003137838752886587533208381420617177669147303598253490428755468731159562863882353787593751957781857780532171226806613001927876611195909216420198\n"
     ]
    }
   ],
   "source": [
    "print(pi_1000)"
   ]
  },
  {
   "cell_type": "markdown",
   "metadata": {},
   "source": [
    "Convenimos que la posición decimal de las decimas está indicada con el 0."
   ]
  },
  {
   "cell_type": "code",
   "execution_count": 8,
   "metadata": {
    "collapsed": false
   },
   "outputs": [
    {
     "name": "stdout",
     "output_type": "stream",
     "text": [
      "3\n"
     ]
    }
   ],
   "source": [
    "besima = str(pi_1000)[b+2]\n",
    "print(besima)"
   ]
  },
  {
   "cell_type": "code",
   "execution_count": 9,
   "metadata": {
    "collapsed": false
   },
   "outputs": [
    {
     "name": "stdout",
     "output_type": "stream",
     "text": [
      "7\n"
     ]
    }
   ],
   "source": [
    "aesima = str(pi_1000)[a+2]\n",
    "print(aesima)"
   ]
  },
  {
   "cell_type": "markdown",
   "metadata": {},
   "source": [
    "### 2. Calcula el conjunto de los divisores naturales del número a ¿Cuánto vale la suma de todos ellos?"
   ]
  },
  {
   "cell_type": "code",
   "execution_count": 10,
   "metadata": {
    "collapsed": false
   },
   "outputs": [],
   "source": [
    "#Generador de python que devuelve los divisores de un número n\n",
    "def divisores(n):\n",
    "    if n < 1:\n",
    "        raise ValueError(\"El número ha de ser natural y mayor que 0\")\n",
    "    div = [] #Complementos de numeros\n",
    "    for numero in range(1, int(sqrt(n) +1 )):\n",
    "        if n%numero == 0:\n",
    "            yield numero #Si es un divisor lo devolvemos\n",
    "            #En la siguiente iteración comprobamos si su cuadrado\n",
    "            #no es n. Simpre va a ser <= n ya\n",
    "            #que buscamos hasta la raiz del numero\n",
    "            if numero*numero != n:\n",
    "                #Si no es lo añadimos como divisor\n",
    "                div = div + [int(n/numero)]\n",
    "\n",
    "    for divisor in div:\n",
    "        yield divisor"
   ]
  },
  {
   "cell_type": "code",
   "execution_count": 11,
   "metadata": {
    "collapsed": false
   },
   "outputs": [
    {
     "data": {
      "text/plain": [
       "[1, 5, 485, 97]"
      ]
     },
     "execution_count": 11,
     "metadata": {},
     "output_type": "execute_result"
    }
   ],
   "source": [
    "list(divisores(a))"
   ]
  },
  {
   "cell_type": "code",
   "execution_count": 12,
   "metadata": {
    "collapsed": false
   },
   "outputs": [
    {
     "data": {
      "text/plain": [
       "588"
      ]
     },
     "execution_count": 12,
     "metadata": {},
     "output_type": "execute_result"
    }
   ],
   "source": [
    "# La suma de los divisores es\n",
    "sum( list(divisores(a)) )"
   ]
  },
  {
   "cell_type": "code",
   "execution_count": 13,
   "metadata": {
    "collapsed": false
   },
   "outputs": [
    {
     "data": {
      "text/plain": [
       "[1, 2, 3, 4, 24, 12, 8, 6]"
      ]
     },
     "execution_count": 13,
     "metadata": {},
     "output_type": "execute_result"
    }
   ],
   "source": [
    "# Un ejemplo para ver como sería con otro número\n",
    "list( divisores( 24 ) )"
   ]
  },
  {
   "cell_type": "code",
   "execution_count": 14,
   "metadata": {
    "collapsed": false
   },
   "outputs": [
    {
     "data": {
      "text/plain": [
       "60"
      ]
     },
     "execution_count": 14,
     "metadata": {},
     "output_type": "execute_result"
    }
   ],
   "source": [
    "sum( list( divisores( 24 ) ) )"
   ]
  },
  {
   "cell_type": "markdown",
   "metadata": {},
   "source": [
    "### 3. Calcula el mayor número primo menor que a y el menor número primo mayor que a. Calcula también la suma de todos los primos menores que a."
   ]
  },
  {
   "cell_type": "code",
   "execution_count": 15,
   "metadata": {
    "collapsed": true
   },
   "outputs": [],
   "source": [
    "primos = [2]"
   ]
  },
  {
   "cell_type": "code",
   "execution_count": 16,
   "metadata": {
    "collapsed": false
   },
   "outputs": [],
   "source": [
    "#Una lista para almacenar los primos que encontremos\n",
    "def es_primo(n):\n",
    "    if n >= 2:\n",
    "        for y in range(2,int(sqrt(n))+1):\n",
    "            if not ( n % y ):\n",
    "                return False\n",
    "    else:\n",
    "        return False\n",
    "    \n",
    "    return True\n",
    "        "
   ]
  },
  {
   "cell_type": "code",
   "execution_count": 17,
   "metadata": {
    "collapsed": false
   },
   "outputs": [],
   "source": [
    "for i in range(1,920):\n",
    "    if es_primo(i):\n",
    "        primos.append(i)"
   ]
  },
  {
   "cell_type": "code",
   "execution_count": 18,
   "metadata": {
    "collapsed": false
   },
   "outputs": [
    {
     "name": "stdout",
     "output_type": "stream",
     "text": [
      "[2, 2, 3, 5, 7, 11, 13, 17, 19, 23, 29, 31, 37, 41, 43, 47, 53, 59, 61, 67, 71, 73, 79, 83, 89, 97, 101, 103, 107, 109, 113, 127, 131, 137, 139, 149, 151, 157, 163, 167, 173, 179, 181, 191, 193, 197, 199, 211, 223, 227, 229, 233, 239, 241, 251, 257, 263, 269, 271, 277, 281, 283, 293, 307, 311, 313, 317, 331, 337, 347, 349, 353, 359, 367, 373, 379, 383, 389, 397, 401, 409, 419, 421, 431, 433, 439, 443, 449, 457, 461, 463, 467, 479, 487, 491, 499, 503, 509, 521, 523, 541, 547, 557, 563, 569, 571, 577, 587, 593, 599, 601, 607, 613, 617, 619, 631, 641, 643, 647, 653, 659, 661, 673, 677, 683, 691, 701, 709, 719, 727, 733, 739, 743, 751, 757, 761, 769, 773, 787, 797, 809, 811, 821, 823, 827, 829, 839, 853, 857, 859, 863, 877, 881, 883, 887, 907, 911, 919]\n"
     ]
    }
   ],
   "source": [
    "print(primos)"
   ]
  },
  {
   "cell_type": "markdown",
   "metadata": {},
   "source": [
    "**Luego el mayor primo < a es**"
   ]
  },
  {
   "cell_type": "code",
   "execution_count": 19,
   "metadata": {
    "collapsed": false
   },
   "outputs": [
    {
     "data": {
      "text/plain": [
       "919"
      ]
     },
     "execution_count": 19,
     "metadata": {},
     "output_type": "execute_result"
    }
   ],
   "source": [
    "primos [-1]"
   ]
  },
  {
   "cell_type": "markdown",
   "metadata": {},
   "source": [
    "Vamos a calcular ahora el menor primo > que a. Para ello vamos a recurrir a itertools que es una librería del nucleo de python que nos proporciona funciones para hacer algo próximo a la programación funcional"
   ]
  },
  {
   "cell_type": "code",
   "execution_count": 20,
   "metadata": {
    "collapsed": true
   },
   "outputs": [],
   "source": [
    "from itertools import takewhile, count"
   ]
  },
  {
   "cell_type": "code",
   "execution_count": 21,
   "metadata": {
    "collapsed": false
   },
   "outputs": [
    {
     "data": {
      "text/plain": [
       "487"
      ]
     },
     "execution_count": 21,
     "metadata": {},
     "output_type": "execute_result"
    }
   ],
   "source": [
    "[x for x in takewhile(lambda x: not es_primo(x), count(a+1))][-1]+1\n"
   ]
  },
  {
   "cell_type": "markdown",
   "metadata": {},
   "source": [
    "** Luego el siguiente primo mayor que a es 937 **"
   ]
  },
  {
   "cell_type": "markdown",
   "metadata": {},
   "source": [
    "### 4. Calcula el número de ceros en que acaba el factorial de (1000+a)"
   ]
  },
  {
   "cell_type": "markdown",
   "metadata": {},
   "source": [
    "Una manera de calcular el factorial es usar la librería que trae python."
   ]
  },
  {
   "cell_type": "code",
   "execution_count": 22,
   "metadata": {
    "collapsed": true
   },
   "outputs": [],
   "source": [
    "from math import factorial"
   ]
  },
  {
   "cell_type": "code",
   "execution_count": 23,
   "metadata": {
    "collapsed": false
   },
   "outputs": [],
   "source": [
    "#factorial(1000+a)"
   ]
  },
  {
   "cell_type": "markdown",
   "metadata": {},
   "source": [
    "Tambíen podemos hacernos nuestro propio factorial"
   ]
  },
  {
   "cell_type": "code",
   "execution_count": 24,
   "metadata": {
    "collapsed": false
   },
   "outputs": [],
   "source": [
    "from operator import mul\n",
    "from functools import reduce"
   ]
  },
  {
   "cell_type": "code",
   "execution_count": 25,
   "metadata": {
    "collapsed": true
   },
   "outputs": [],
   "source": [
    "def factorial_mio(n):\n",
    "    return reduce(mul, range(1,n+1))"
   ]
  },
  {
   "cell_type": "code",
   "execution_count": 26,
   "metadata": {
    "collapsed": false
   },
   "outputs": [
    {
     "data": {
      "text/plain": [
       "True"
      ]
     },
     "execution_count": 26,
     "metadata": {},
     "output_type": "execute_result"
    }
   ],
   "source": [
    "factorial(1000+a) == factorial_mio(1000+a)"
   ]
  },
  {
   "cell_type": "markdown",
   "metadata": {},
   "source": [
    "Vemos que da el mismo resultado"
   ]
  },
  {
   "cell_type": "markdown",
   "metadata": {},
   "source": [
    "El numero de ceros en los que acaba el factorial es:"
   ]
  },
  {
   "cell_type": "code",
   "execution_count": 27,
   "metadata": {
    "collapsed": false
   },
   "outputs": [],
   "source": [
    "\"\"\"\n",
    "Para buscar el número de 0 se ha procedido a convertir el número en una cadena de caracteres\n",
    "invertir la posicion de los digitos, el último pasa a ser el primero y así con el resto de dígitos,\n",
    "por último se recorre la cadena hasta que se encuentra un dígito distinto de 0\n",
    "\"\"\"\n",
    "\n",
    "total_ceros = 0\n",
    "distinto_encontrado = False\n",
    "numero = str( factorial_mio(1000+a) )[::-1]\n",
    "while not distinto_encontrado:\n",
    "    if numero[total_ceros] == '0':\n",
    "        total_ceros += 1\n",
    "    else:\n",
    "        distinto_encontrado = True\n",
    "    "
   ]
  },
  {
   "cell_type": "code",
   "execution_count": 28,
   "metadata": {
    "collapsed": false
   },
   "outputs": [
    {
     "data": {
      "text/plain": [
       "369"
      ]
     },
     "execution_count": 28,
     "metadata": {},
     "output_type": "execute_result"
    }
   ],
   "source": [
    "total_ceros"
   ]
  },
  {
   "cell_type": "markdown",
   "metadata": {},
   "source": [
    "## Ejercicio 2 Un número natural n es perfecto si la suma de sus divisores distintos de él vale n. Halla los números perfectos menores que 10000."
   ]
  },
  {
   "cell_type": "markdown",
   "metadata": {},
   "source": [
    "Ya tenemos una función para calcular los divisores de un número n"
   ]
  },
  {
   "cell_type": "code",
   "execution_count": 29,
   "metadata": {
    "collapsed": true
   },
   "outputs": [],
   "source": [
    "def divisores(n):\n",
    "    if n < 1:\n",
    "        raise ValueError(\"El número ha de ser natural y mayor que 0\")\n",
    "    div = [] #Complementos de numeros\n",
    "    for numero in range(1, int(sqrt(n) +1 )):\n",
    "        if n%numero == 0:\n",
    "            yield numero #Si es un divisor lo devolvemos\n",
    "            #En la siguiente iteración comprobamos si su cuadrado\n",
    "            #no es n. Simpre va a ser <= n ya\n",
    "            #que buscamos hasta la raiz del numero\n",
    "            if numero*numero != n:\n",
    "                #Si no es lo añadimos como divisor\n",
    "                div = div + [int(n/numero)]\n",
    "\n",
    "    for divisor in div:\n",
    "        yield divisor"
   ]
  },
  {
   "cell_type": "markdown",
   "metadata": {},
   "source": [
    "La suma de los divisores es (incluyendo al 1 y omitiendo el propio número):"
   ]
  },
  {
   "cell_type": "code",
   "execution_count": 30,
   "metadata": {
    "collapsed": false
   },
   "outputs": [],
   "source": [
    "def suma_divisores(n):\n",
    "    divis = list(divisores(n))\n",
    "    #Ahora quitamos el propio número\n",
    "    divis.remove(n)\n",
    "    return sum(divis)"
   ]
  },
  {
   "cell_type": "code",
   "execution_count": 31,
   "metadata": {
    "collapsed": false
   },
   "outputs": [
    {
     "data": {
      "text/plain": [
       "36"
      ]
     },
     "execution_count": 31,
     "metadata": {},
     "output_type": "execute_result"
    }
   ],
   "source": [
    "suma_divisores(24)"
   ]
  },
  {
   "cell_type": "markdown",
   "metadata": {},
   "source": [
    "Los números perfectos entre los 1000 primeos naturales son:"
   ]
  },
  {
   "cell_type": "code",
   "execution_count": 32,
   "metadata": {
    "collapsed": false
   },
   "outputs": [
    {
     "data": {
      "text/plain": [
       "[6, 28, 496]"
      ]
     },
     "execution_count": 32,
     "metadata": {},
     "output_type": "execute_result"
    }
   ],
   "source": [
    "[x for x in range(1,1001) if x == suma_divisores(x)]"
   ]
  },
  {
   "cell_type": "markdown",
   "metadata": {},
   "source": [
    "En total son"
   ]
  },
  {
   "cell_type": "code",
   "execution_count": 33,
   "metadata": {
    "collapsed": false
   },
   "outputs": [
    {
     "data": {
      "text/plain": [
       "3"
      ]
     },
     "execution_count": 33,
     "metadata": {},
     "output_type": "execute_result"
    }
   ],
   "source": [
    "len([x for x in range(1,1001) if x == suma_divisores(x)])"
   ]
  },
  {
   "cell_type": "markdown",
   "metadata": {
    "collapsed": true
   },
   "source": [
    "## Ejercicio 3 "
   ]
  },
  {
   "cell_type": "markdown",
   "metadata": {},
   "source": [
    "Demostremos que si $2^{p} -1 es primo necesariamente p es primo.\n",
    "Vamos a demostrarlo usando el contrarecíproco. \n",
    "\n",
    "Supongamos que $p$ no es primo. Por tanto lo podemos expresar como producto de dos números. Sean $m,n \\in \\mathbb{N}$ tal que $2 \\le m,n < p$ y $mn=p$. Tenemos que demostar que \"Si $p$ no es primo entonces $2^{p}-1$ tampoco es primo\".\n",
    "\n",
    "Sea $p = mn$ para $m,n \\in \\mathbb{N}$ tales que $2 \\le m,n < p$\n",
    "\n",
    "$2^{mn}-1 = (2^m)^n -1 = (2^m -1 )((2^m)^{n-1} + (2^m)^{n-1} + ...  + 2^m + 1)$\n",
    "\n",
    "por nuestra hipótesis tenemos\n",
    "\n",
    "$2 \\le 2^m -1 < 2^p -1$\n",
    "\n",
    "Así $2^m -1$ divide a $2^p -1$ y esto nos dice que $2^p -1$ es compuesto.\n",
    "\n",
    "Hemos demostrado que si p no es primo entonces $2^p -1$ tampoco lo es. Podemos afirmar pues:\n",
    "\n",
    "Si $2^p -1$ es primo, entonces $p$ es primo. \n"
   ]
  },
  {
   "cell_type": "markdown",
   "metadata": {},
   "source": [
    "Sabiendo esto, primero buscamos los primos entre los primeros 257 numeros."
   ]
  },
  {
   "cell_type": "code",
   "execution_count": 34,
   "metadata": {
    "collapsed": true
   },
   "outputs": [],
   "source": [
    "primos_en_258 = []"
   ]
  },
  {
   "cell_type": "code",
   "execution_count": 35,
   "metadata": {
    "collapsed": false
   },
   "outputs": [],
   "source": [
    "for i in range(1,258):\n",
    "    if es_primo(i):\n",
    "        primos_en_258.append(i)"
   ]
  },
  {
   "cell_type": "code",
   "execution_count": 36,
   "metadata": {
    "collapsed": false
   },
   "outputs": [
    {
     "name": "stdout",
     "output_type": "stream",
     "text": [
      "[2, 3, 5, 7, 11, 13, 17, 19, 23, 29, 31, 37, 41, 43, 47, 53, 59, 61, 67, 71, 73, 79, 83, 89, 97, 101, 103, 107, 109, 113, 127, 131, 137, 139, 149, 151, 157, 163, 167, 173, 179, 181, 191, 193, 197, 199, 211, 223, 227, 229, 233, 239, 241, 251, 257]\n"
     ]
    }
   ],
   "source": [
    "print(primos_en_258)"
   ]
  },
  {
   "cell_type": "markdown",
   "metadata": {},
   "source": [
    "Como comprobar si un primo de la forma $2^{p} -1$ es una tarea muy pesada cuando p crece vamos a usar el algoritmo de Lucas-Lehmer."
   ]
  },
  {
   "cell_type": "code",
   "execution_count": 37,
   "metadata": {
    "collapsed": false
   },
   "outputs": [],
   "source": [
    "def LucasLehmer(p):\n",
    "    \"\"\"\n",
    "    Este algoritmo determina si 2**p-1 es primo para p >= 2\n",
    "    \"\"\"\n",
    "    if p == 2:\n",
    "        return True\n",
    "    \n",
    "    s = 4\n",
    "    M = 2**p -1\n",
    "    for i in range(3, p+1):\n",
    "        s = (s**2 -2) % M\n",
    "        \n",
    "    return s == 0\n"
   ]
  },
  {
   "cell_type": "code",
   "execution_count": 38,
   "metadata": {
    "collapsed": false
   },
   "outputs": [],
   "source": [
    "lista = []\n",
    "for i in primos_en_258:\n",
    "    lista.append( (i, LucasLehmer(i) ) )"
   ]
  },
  {
   "cell_type": "code",
   "execution_count": 39,
   "metadata": {
    "collapsed": false
   },
   "outputs": [
    {
     "name": "stdout",
     "output_type": "stream",
     "text": [
      "[(2, True), (3, True), (5, True), (7, True), (11, False), (13, True), (17, True), (19, True), (23, False), (29, False), (31, True), (37, False), (41, False), (43, False), (47, False), (53, False), (59, False), (61, True), (67, False), (71, False), (73, False), (79, False), (83, False), (89, True), (97, False), (101, False), (103, False), (107, True), (109, False), (113, False), (127, True), (131, False), (137, False), (139, False), (149, False), (151, False), (157, False), (163, False), (167, False), (173, False), (179, False), (181, False), (191, False), (193, False), (197, False), (199, False), (211, False), (223, False), (227, False), (229, False), (233, False), (239, False), (241, False), (251, False), (257, False)]\n"
     ]
    }
   ],
   "source": [
    "print(lista)"
   ]
  },
  {
   "cell_type": "markdown",
   "metadata": {},
   "source": [
    "En esta lista tenemos tuplas de los primeros 258 números y si son primos de Mersenne. Los que lo cumplen son"
   ]
  },
  {
   "cell_type": "code",
   "execution_count": 40,
   "metadata": {
    "collapsed": false
   },
   "outputs": [
    {
     "name": "stdout",
     "output_type": "stream",
     "text": [
      "[2, 3, 5, 7, 13, 17, 19, 31, 61, 89, 107, 127]\n"
     ]
    }
   ],
   "source": [
    "print([x[0] for x in lista if x[1] == True ])"
   ]
  },
  {
   "cell_type": "markdown",
   "metadata": {},
   "source": [
    "Luego Mersenne se había equivocado y la lista correcta es la anterior.\n",
    "\n",
    "Vemos que no es cierto que para todo $p$ primo $2^{p} -1$ sea primo."
   ]
  },
  {
   "cell_type": "markdown",
   "metadata": {},
   "source": [
    "## Ejercicio 4 La conjetura de Goldbach afirma que todo número natural par mayor que 3 se puede poner como la suma de dos números primos"
   ]
  },
  {
   "cell_type": "markdown",
   "metadata": {},
   "source": [
    "#### 1. Escribe (1000+2a) como suma de dos primos. Halla todas las descomposiciones posibles de (1000+2a) como suma de dos primos. ¿De cuántas formas se puede descomponer (1000+2*a) como suma de dos primos?."
   ]
  },
  {
   "cell_type": "code",
   "execution_count": 41,
   "metadata": {
    "collapsed": false
   },
   "outputs": [
    {
     "name": "stdout",
     "output_type": "stream",
     "text": [
      "1970\n"
     ]
    }
   ],
   "source": [
    "numero = 1000+2*a\n",
    "print(numero)"
   ]
  },
  {
   "cell_type": "markdown",
   "metadata": {},
   "source": [
    "creamos una lista de primos hasta 1000+2a"
   ]
  },
  {
   "cell_type": "code",
   "execution_count": 42,
   "metadata": {
    "collapsed": false
   },
   "outputs": [],
   "source": [
    "def lista_primos(n):\n",
    "    lista = []\n",
    "    for i in range(1,n+1):\n",
    "        if es_primo(i):\n",
    "            lista.append(i)\n",
    "    \n",
    "    return lista"
   ]
  },
  {
   "cell_type": "code",
   "execution_count": 43,
   "metadata": {
    "collapsed": false
   },
   "outputs": [
    {
     "name": "stdout",
     "output_type": "stream",
     "text": [
      "[2, 3, 5, 7, 11, 13, 17, 19, 23, 29, 31, 37, 41, 43, 47, 53, 59, 61, 67, 71, 73, 79, 83, 89, 97, 101, 103, 107, 109, 113, 127, 131, 137, 139, 149, 151, 157, 163, 167, 173, 179, 181, 191, 193, 197, 199, 211, 223, 227, 229, 233, 239, 241, 251, 257, 263, 269, 271, 277, 281, 283, 293, 307, 311, 313, 317, 331, 337, 347, 349, 353, 359, 367, 373, 379, 383, 389, 397, 401, 409, 419, 421, 431, 433, 439, 443, 449, 457, 461, 463, 467, 479, 487, 491, 499, 503, 509, 521, 523, 541, 547, 557, 563, 569, 571, 577, 587, 593, 599, 601, 607, 613, 617, 619, 631, 641, 643, 647, 653, 659, 661, 673, 677, 683, 691, 701, 709, 719, 727, 733, 739, 743, 751, 757, 761, 769, 773, 787, 797, 809, 811, 821, 823, 827, 829, 839, 853, 857, 859, 863, 877, 881, 883, 887, 907, 911, 919, 929, 937, 941, 947, 953, 967, 971, 977, 983, 991, 997, 1009, 1013, 1019, 1021, 1031, 1033, 1039, 1049, 1051, 1061, 1063, 1069, 1087, 1091, 1093, 1097, 1103, 1109, 1117, 1123, 1129, 1151, 1153, 1163, 1171, 1181, 1187, 1193, 1201, 1213, 1217, 1223, 1229, 1231, 1237, 1249, 1259, 1277, 1279, 1283, 1289, 1291, 1297, 1301, 1303, 1307, 1319, 1321, 1327, 1361, 1367, 1373, 1381, 1399, 1409, 1423, 1427, 1429, 1433, 1439, 1447, 1451, 1453, 1459, 1471, 1481, 1483, 1487, 1489, 1493, 1499, 1511, 1523, 1531, 1543, 1549, 1553, 1559, 1567, 1571, 1579, 1583, 1597, 1601, 1607, 1609, 1613, 1619, 1621, 1627, 1637, 1657, 1663, 1667, 1669, 1693, 1697, 1699, 1709, 1721, 1723, 1733, 1741, 1747, 1753, 1759, 1777, 1783, 1787, 1789, 1801, 1811, 1823, 1831, 1847, 1861, 1867, 1871, 1873, 1877, 1879, 1889, 1901, 1907, 1913, 1931, 1933, 1949, 1951]\n"
     ]
    }
   ],
   "source": [
    "print(lista_primos(numero))"
   ]
  },
  {
   "cell_type": "code",
   "execution_count": 44,
   "metadata": {
    "collapsed": false
   },
   "outputs": [],
   "source": [
    "def suma_primos(numero):\n",
    "    primos = lista_primos(numero)\n",
    "    indice_i = 0\n",
    "    indice_m = len(primos) - 1\n",
    "    while indice_i <= indice_m:\n",
    "        suma = primos[indice_i] + primos[indice_m]\n",
    "        if suma < numero:\n",
    "            indice_i += 1\n",
    "        else:\n",
    "            if suma == numero:\n",
    "                yield primos[indice_i], primos[indice_m]\n",
    "            indice_m -= 1"
   ]
  },
  {
   "cell_type": "markdown",
   "metadata": {},
   "source": [
    "#### Soluciones:\n",
    "\n",
    "* 1000+2a como suma de dos primos"
   ]
  },
  {
   "cell_type": "code",
   "execution_count": 45,
   "metadata": {
    "collapsed": false
   },
   "outputs": [
    {
     "data": {
      "text/plain": [
       "(19, 1951)"
      ]
     },
     "execution_count": 45,
     "metadata": {},
     "output_type": "execute_result"
    }
   ],
   "source": [
    "list(suma_primos(numero))[0]"
   ]
  },
  {
   "cell_type": "markdown",
   "metadata": {},
   "source": [
    "* Todas las descomposiciones como suma de primos"
   ]
  },
  {
   "cell_type": "code",
   "execution_count": 46,
   "metadata": {
    "collapsed": false
   },
   "outputs": [
    {
     "name": "stdout",
     "output_type": "stream",
     "text": [
      "[(19, 1951), (37, 1933), (97, 1873), (103, 1867), (109, 1861), (139, 1831), (181, 1789), (193, 1777), (211, 1759), (223, 1747), (229, 1741), (271, 1699), (277, 1693), (307, 1663), (313, 1657), (349, 1621), (373, 1597), (421, 1549), (439, 1531), (487, 1483), (499, 1471), (523, 1447), (541, 1429), (547, 1423), (571, 1399), (643, 1327), (673, 1297), (691, 1279), (733, 1237), (739, 1231), (757, 1213), (769, 1201), (853, 1117), (877, 1093), (883, 1087), (907, 1063), (919, 1051), (937, 1033)]\n"
     ]
    }
   ],
   "source": [
    "print(list(suma_primos(numero)))"
   ]
  },
  {
   "cell_type": "markdown",
   "metadata": {},
   "source": [
    "* Numero de formas"
   ]
  },
  {
   "cell_type": "code",
   "execution_count": 47,
   "metadata": {
    "collapsed": false
   },
   "outputs": [
    {
     "data": {
      "text/plain": [
       "38"
      ]
     },
     "execution_count": 47,
     "metadata": {},
     "output_type": "execute_result"
    }
   ],
   "source": [
    "len(list(suma_primos(numero)))"
   ]
  },
  {
   "cell_type": "markdown",
   "metadata": {},
   "source": [
    "#### 2. Define la función goldbach(n) que devuelva una pareja de primos que sumen n. Define la función goldbachtotal(n) que devuelva la lista de todas las parejas de primos que sumen n. Define dgoldbach(n) que devuelva el número de descomposiciones de Goldbach que admite n."
   ]
  },
  {
   "cell_type": "code",
   "execution_count": 48,
   "metadata": {
    "collapsed": true
   },
   "outputs": [],
   "source": [
    "def golbach(n):\n",
    "    primos = lista_primos(n)\n",
    "    sumas = list(suma_primos(n))\n",
    "    return sumas[0]"
   ]
  },
  {
   "cell_type": "code",
   "execution_count": 49,
   "metadata": {
    "collapsed": false
   },
   "outputs": [
    {
     "data": {
      "text/plain": [
       "(5, 7)"
      ]
     },
     "execution_count": 49,
     "metadata": {},
     "output_type": "execute_result"
    }
   ],
   "source": [
    "golbach(12)"
   ]
  },
  {
   "cell_type": "code",
   "execution_count": 50,
   "metadata": {
    "collapsed": true
   },
   "outputs": [],
   "source": [
    "def dgoldbach(n):\n",
    "    primos = lista_primos(n)\n",
    "    sumas = list(suma_primos(n))\n",
    "    return len(sumas)"
   ]
  },
  {
   "cell_type": "code",
   "execution_count": 51,
   "metadata": {
    "collapsed": false
   },
   "outputs": [
    {
     "data": {
      "text/plain": [
       "3"
      ]
     },
     "execution_count": 51,
     "metadata": {},
     "output_type": "execute_result"
    }
   ],
   "source": [
    "dgoldbach(24)"
   ]
  },
  {
   "cell_type": "markdown",
   "metadata": {
    "collapsed": true
   },
   "source": [
    "## Ejercicio 5"
   ]
  },
  {
   "cell_type": "code",
   "execution_count": 52,
   "metadata": {
    "collapsed": true
   },
   "outputs": [],
   "source": [
    "def ackermann(m, n):\n",
    "    if m == 0:\n",
    "        return n+1\n",
    "    if n == 0:\n",
    "        return ackermann(m-1, 1)\n",
    "    return ackermann(m-1, ackermann(m, n-1))"
   ]
  },
  {
   "cell_type": "code",
   "execution_count": 53,
   "metadata": {
    "collapsed": false
   },
   "outputs": [
    {
     "data": {
      "text/plain": [
       "29"
      ]
     },
     "execution_count": 53,
     "metadata": {},
     "output_type": "execute_result"
    }
   ],
   "source": [
    "ackermann(3,2)"
   ]
  },
  {
   "cell_type": "markdown",
   "metadata": {},
   "source": [
    "Al intentar calcular el valor para ackermann(4,2) se desborda la pila por lo que hay que buscar otra manera de resolver el problema."
   ]
  },
  {
   "cell_type": "markdown",
   "metadata": {
    "collapsed": true
   },
   "source": [
    "Propiedades de la función de Ackermann:\n",
    "\n",
    "1. A(1, n) = n + 2\n",
    "* A(2, n) = 2 n + 3\n",
    "* A(3, n) = 2n + 3 - 3\n",
    "* A(4, n) = $2^{2^{2^{...}}} − 3$ donde el primer sumando es una potencia anidada de n + 3 niveles."
   ]
  },
  {
   "cell_type": "markdown",
   "metadata": {},
   "source": [
    "Así para el caso de ackerman(4,2) el resultado sería"
   ]
  },
  {
   "cell_type": "code",
   "execution_count": 54,
   "metadata": {
    "collapsed": false
   },
   "outputs": [
    {
     "name": "stdout",
     "output_type": "stream",
     "text": [
      "65536\n"
     ]
    }
   ],
   "source": [
    "numero = 2\n",
    "n = 2\n",
    "for i in range(n+2):\n",
    "    numero = numero**2\n",
    "print(numero)"
   ]
  },
  {
   "cell_type": "markdown",
   "metadata": {},
   "source": [
    "Así Akermann(4,2) = $2^{65536} - 3 $"
   ]
  },
  {
   "cell_type": "markdown",
   "metadata": {},
   "source": [
    "## Bibliografía\n",
    "\n",
    "* https://es.wikipedia.org/wiki/Funci%C3%B3n_de_Ackermann\n",
    "* https://es.wikipedia.org/wiki/N%C3%BAmero_primo_de_Mersenne\n",
    "* https://es.wikipedia.org/wiki/Test_de_Lucas-Lehmer"
   ]
  }
 ],
 "metadata": {
  "kernelspec": {
   "display_name": "Python 3",
   "language": "python",
   "name": "python3"
  },
  "language_info": {
   "codemirror_mode": {
    "name": "ipython",
    "version": 3
   },
   "file_extension": ".py",
   "mimetype": "text/x-python",
   "name": "python",
   "nbconvert_exporter": "python",
   "pygments_lexer": "ipython3",
   "version": "3.5.2"
  }
 },
 "nbformat": 4,
 "nbformat_minor": 2
}
