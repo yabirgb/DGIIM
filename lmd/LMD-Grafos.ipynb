{
 "cells": [
  {
   "cell_type": "code",
   "execution_count": 1,
   "metadata": {
    "collapsed": false
   },
   "outputs": [],
   "source": [
    "from havel_hakimi import Sucesion"
   ]
  },
  {
   "cell_type": "code",
   "execution_count": 2,
   "metadata": {
    "collapsed": false
   },
   "outputs": [],
   "source": [
    "a = Sucesion([4,4,3,2,2,2,1])"
   ]
  },
  {
   "cell_type": "code",
   "execution_count": 3,
   "metadata": {
    "collapsed": false
   },
   "outputs": [
    {
     "name": "stdout",
     "output_type": "stream",
     "text": [
      "[4, 4, 3, 2, 2, 2, 1]\n",
      "[0, 3, 2, 1, 1, 2, 1]\n",
      "[0, 0, 1, 0, 1, 1, 1]\n",
      "[0, 0, 0, 0, 1, 0, 1]\n",
      "[0, 0, 0, 0, 0, 0, 0]\n"
     ]
    }
   ],
   "source": [
    "a.demolicion(True)"
   ]
  },
  {
   "cell_type": "code",
   "execution_count": 4,
   "metadata": {
    "collapsed": false
   },
   "outputs": [
    {
     "data": {
      "image/svg+xml": [
       "<svg height=\"260pt\" viewBox=\"0.00 0.00 244.00 260.00\" width=\"244pt\" xmlns=\"http://www.w3.org/2000/svg\" xmlns:xlink=\"http://www.w3.org/1999/xlink\">\n",
       "<g class=\"graph\" id=\"graph0\" transform=\"scale(1 1) rotate(0) translate(4 256)\">\n",
       "<title>%3</title>\n",
       "<polygon fill=\"white\" points=\"-4,4 -4,-256 240,-256 240,4 -4,4\" stroke=\"none\"/>\n",
       "<!-- 1 -->\n",
       "<g class=\"node\" id=\"node1\"><title>1</title>\n",
       "<ellipse cx=\"109\" cy=\"-234\" fill=\"none\" rx=\"27\" ry=\"18\" stroke=\"black\"/>\n",
       "<text font-family=\"Times,serif\" font-size=\"14.00\" text-anchor=\"middle\" x=\"109\" y=\"-230.3\">4</text>\n",
       "</g>\n",
       "<!-- 2 -->\n",
       "<g class=\"node\" id=\"node2\"><title>2</title>\n",
       "<ellipse cx=\"82\" cy=\"-162\" fill=\"none\" rx=\"27\" ry=\"18\" stroke=\"black\"/>\n",
       "<text font-family=\"Times,serif\" font-size=\"14.00\" text-anchor=\"middle\" x=\"82\" y=\"-158.3\">4</text>\n",
       "</g>\n",
       "<!-- 1&#45;&#45;2 -->\n",
       "<g class=\"edge\" id=\"edge1\"><title>1--2</title>\n",
       "<path d=\"M102.601,-216.411C98.3597,-205.414 92.8106,-191.027 88.5403,-179.956\" fill=\"none\" stroke=\"black\"/>\n",
       "</g>\n",
       "<!-- 3 -->\n",
       "<g class=\"node\" id=\"node3\"><title>3</title>\n",
       "<ellipse cx=\"27\" cy=\"-90\" fill=\"none\" rx=\"27\" ry=\"18\" stroke=\"black\"/>\n",
       "<text font-family=\"Times,serif\" font-size=\"14.00\" text-anchor=\"middle\" x=\"27\" y=\"-86.3\">3</text>\n",
       "</g>\n",
       "<!-- 1&#45;&#45;3 -->\n",
       "<g class=\"edge\" id=\"edge2\"><title>1--3</title>\n",
       "<path d=\"M89.4606,-221.575C75.2061,-212.208 56.5972,-197.644 46,-180 32.5776,-157.652 28.5645,-127.139 27.4075,-108.271\" fill=\"none\" stroke=\"black\"/>\n",
       "</g>\n",
       "<!-- 4 -->\n",
       "<g class=\"node\" id=\"node4\"><title>4</title>\n",
       "<ellipse cx=\"137\" cy=\"-90\" fill=\"none\" rx=\"27\" ry=\"18\" stroke=\"black\"/>\n",
       "<text font-family=\"Times,serif\" font-size=\"14.00\" text-anchor=\"middle\" x=\"137\" y=\"-86.3\">2</text>\n",
       "</g>\n",
       "<!-- 1&#45;&#45;4 -->\n",
       "<g class=\"edge\" id=\"edge3\"><title>1--4</title>\n",
       "<path d=\"M112.377,-215.871C117.759,-188.578 128.221,-135.52 133.611,-108.189\" fill=\"none\" stroke=\"black\"/>\n",
       "</g>\n",
       "<!-- 5 -->\n",
       "<g class=\"node\" id=\"node5\"><title>5</title>\n",
       "<ellipse cx=\"200\" cy=\"-162\" fill=\"none\" rx=\"27\" ry=\"18\" stroke=\"black\"/>\n",
       "<text font-family=\"Times,serif\" font-size=\"14.00\" text-anchor=\"middle\" x=\"200\" y=\"-158.3\">2</text>\n",
       "</g>\n",
       "<!-- 1&#45;&#45;5 -->\n",
       "<g class=\"edge\" id=\"edge4\"><title>1--5</title>\n",
       "<path d=\"M126.116,-219.834C142.386,-207.319 166.716,-188.603 182.96,-176.107\" fill=\"none\" stroke=\"black\"/>\n",
       "</g>\n",
       "<!-- 2&#45;&#45;3 -->\n",
       "<g class=\"edge\" id=\"edge5\"><title>2--3</title>\n",
       "<path d=\"M70.0658,-145.811C60.8405,-134.07 48.1304,-117.893 38.9109,-106.159\" fill=\"none\" stroke=\"black\"/>\n",
       "</g>\n",
       "<!-- 2&#45;&#45;4 -->\n",
       "<g class=\"edge\" id=\"edge7\"><title>2--4</title>\n",
       "<path d=\"M93.9342,-145.811C103.16,-134.07 115.87,-117.893 125.089,-106.159\" fill=\"none\" stroke=\"black\"/>\n",
       "</g>\n",
       "<!-- 6 -->\n",
       "<g class=\"node\" id=\"node6\"><title>6</title>\n",
       "<ellipse cx=\"54\" cy=\"-18\" fill=\"none\" rx=\"27\" ry=\"18\" stroke=\"black\"/>\n",
       "<text font-family=\"Times,serif\" font-size=\"14.00\" text-anchor=\"middle\" x=\"54\" y=\"-14.3\">2</text>\n",
       "</g>\n",
       "<!-- 2&#45;&#45;6 -->\n",
       "<g class=\"edge\" id=\"edge6\"><title>2--6</title>\n",
       "<path d=\"M78.6225,-143.871C73.2408,-116.578 62.7787,-63.5205 57.3894,-36.1893\" fill=\"none\" stroke=\"black\"/>\n",
       "</g>\n",
       "<!-- 3&#45;&#45;6 -->\n",
       "<g class=\"edge\" id=\"edge8\"><title>3--6</title>\n",
       "<path d=\"M33.3986,-72.411C37.6403,-61.4141 43.1894,-47.0274 47.4597,-35.9562\" fill=\"none\" stroke=\"black\"/>\n",
       "</g>\n",
       "<!-- 7 -->\n",
       "<g class=\"node\" id=\"node7\"><title>7</title>\n",
       "<ellipse cx=\"209\" cy=\"-90\" fill=\"none\" rx=\"27\" ry=\"18\" stroke=\"black\"/>\n",
       "<text font-family=\"Times,serif\" font-size=\"14.00\" text-anchor=\"middle\" x=\"209\" y=\"-86.3\">1</text>\n",
       "</g>\n",
       "<!-- 5&#45;&#45;7 -->\n",
       "<g class=\"edge\" id=\"edge9\"><title>5--7</title>\n",
       "<path d=\"M202.179,-144.055C203.573,-133.211 205.376,-119.183 206.779,-108.275\" fill=\"none\" stroke=\"black\"/>\n",
       "</g>\n",
       "</g>\n",
       "</svg>"
      ],
      "text/plain": [
       "<IPython.core.display.SVG object>"
      ]
     },
     "metadata": {},
     "output_type": "display_data"
    }
   ],
   "source": [
    "a.reconstruccion()"
   ]
  },
  {
   "cell_type": "code",
   "execution_count": 5,
   "metadata": {
    "collapsed": false
   },
   "outputs": [
    {
     "data": {
      "text/plain": [
       "True"
      ]
     },
     "execution_count": 5,
     "metadata": {},
     "output_type": "execute_result"
    }
   ],
   "source": [
    "a.es_grafica()"
   ]
  },
  {
   "cell_type": "code",
   "execution_count": 6,
   "metadata": {
    "collapsed": false
   },
   "outputs": [],
   "source": [
    "b = Sucesion([6,6,6,4,3,3,2])"
   ]
  },
  {
   "cell_type": "code",
   "execution_count": 7,
   "metadata": {
    "collapsed": false
   },
   "outputs": [
    {
     "data": {
      "text/plain": [
       "False"
      ]
     },
     "execution_count": 7,
     "metadata": {},
     "output_type": "execute_result"
    }
   ],
   "source": [
    "b.es_grafica()"
   ]
  },
  {
   "cell_type": "code",
   "execution_count": 8,
   "metadata": {
    "collapsed": false
   },
   "outputs": [
    {
     "name": "stdout",
     "output_type": "stream",
     "text": [
      "[0, -1, -1, 0, 0, 0, 0]\n"
     ]
    }
   ],
   "source": [
    "b.demolicion(True)"
   ]
  },
  {
   "cell_type": "code",
   "execution_count": 9,
   "metadata": {
    "collapsed": false
   },
   "outputs": [],
   "source": [
    "c = Sucesion([7,5,5,4,2,3,3,3,3,2,2])"
   ]
  },
  {
   "cell_type": "code",
   "execution_count": 10,
   "metadata": {
    "collapsed": false
   },
   "outputs": [
    {
     "data": {
      "text/plain": [
       "False"
      ]
     },
     "execution_count": 10,
     "metadata": {},
     "output_type": "execute_result"
    }
   ],
   "source": [
    "c.es_grafica()"
   ]
  },
  {
   "cell_type": "code",
   "execution_count": 11,
   "metadata": {
    "collapsed": false
   },
   "outputs": [
    {
     "name": "stdout",
     "output_type": "stream",
     "text": [
      "[7, 5, 5, 4, 2, 3, 3, 3, 3, 2, 2]\n",
      "[0, 4, 4, 3, 1, 2, 2, 2, 3, 2, 2]\n",
      "[0, 0, 3, 2, 1, 1, 2, 2, 2, 2, 2]\n",
      "[0, 0, 0, 1, 1, 1, 1, 2, 1, 2, 2]\n",
      "[0, 0, 0, 1, 1, 1, 1, 0, 1, 1, 1]\n",
      "[0, 0, 0, 1, 1, 1, 1, 0, 1, 0, 0]\n",
      "[0, 0, 0, 0, 1, 1, 1, 0, 0, 0, 0]\n",
      "[0, 0, 0, 0, 1, 0, 0, 0, 0, 0, 0]\n",
      "[0, 0, 0, 0, 0, 0, -1, 0, 0, 0, 0]\n"
     ]
    }
   ],
   "source": [
    "c.demolicion(True)"
   ]
  },
  {
   "cell_type": "markdown",
   "metadata": {},
   "source": [
    "Si intentamos dibujarla sin ser sucesión gráfica nos da un error"
   ]
  },
  {
   "cell_type": "code",
   "execution_count": 12,
   "metadata": {
    "collapsed": false
   },
   "outputs": [
    {
     "ename": "Exception",
     "evalue": "No es sucesión grafica",
     "output_type": "error",
     "traceback": [
      "\u001b[0;31m---------------------------------------------------------------------------\u001b[0m",
      "\u001b[0;31mException\u001b[0m                                 Traceback (most recent call last)",
      "\u001b[0;32m<ipython-input-12-3adaaf0a935b>\u001b[0m in \u001b[0;36m<module>\u001b[0;34m()\u001b[0m\n\u001b[0;32m----> 1\u001b[0;31m \u001b[0mc\u001b[0m\u001b[0;34m.\u001b[0m\u001b[0mreconstruccion\u001b[0m\u001b[0;34m(\u001b[0m\u001b[0;34m)\u001b[0m\u001b[0;34m\u001b[0m\u001b[0m\n\u001b[0m",
      "\u001b[0;32m/home/yabir/ugr/lmd/havel_hakimi.py\u001b[0m in \u001b[0;36mreconstruccion\u001b[0;34m(self)\u001b[0m\n\u001b[1;32m    100\u001b[0m             \u001b[0mself\u001b[0m\u001b[0;34m.\u001b[0m\u001b[0m__dibuja\u001b[0m\u001b[0;34m(\u001b[0m\u001b[0;34m)\u001b[0m\u001b[0;34m\u001b[0m\u001b[0m\n\u001b[1;32m    101\u001b[0m         \u001b[0;32melse\u001b[0m\u001b[0;34m:\u001b[0m\u001b[0;34m\u001b[0m\u001b[0m\n\u001b[0;32m--> 102\u001b[0;31m             \u001b[0;32mraise\u001b[0m \u001b[0mException\u001b[0m\u001b[0;34m(\u001b[0m\u001b[0;34m\"No es sucesión grafica\"\u001b[0m\u001b[0;34m)\u001b[0m\u001b[0;34m\u001b[0m\u001b[0m\n\u001b[0m\u001b[1;32m    103\u001b[0m \u001b[0;34m\u001b[0m\u001b[0m\n\u001b[1;32m    104\u001b[0m         \u001b[0;32mreturn\u001b[0m \u001b[0;32mNone\u001b[0m\u001b[0;34m\u001b[0m\u001b[0m\n",
      "\u001b[0;31mException\u001b[0m: No es sucesión grafica"
     ]
    }
   ],
   "source": [
    "c.reconstruccion()"
   ]
  },
  {
   "cell_type": "code",
   "execution_count": 13,
   "metadata": {
    "collapsed": false
   },
   "outputs": [
    {
     "data": {
      "text/plain": [
       "defaultdict(list,\n",
       "            {1: [2, 3, 4, 5, 6, 7, 8],\n",
       "             2: [3, 4, 9, 6],\n",
       "             3: [4, 9, 7],\n",
       "             4: [9],\n",
       "             5: [7],\n",
       "             7: [6],\n",
       "             8: [10, 11],\n",
       "             10: [11]})"
      ]
     },
     "execution_count": 13,
     "metadata": {},
     "output_type": "execute_result"
    }
   ],
   "source": [
    "c.relaciones()"
   ]
  },
  {
   "cell_type": "code",
   "execution_count": 14,
   "metadata": {
    "collapsed": false
   },
   "outputs": [
    {
     "data": {
      "image/svg+xml": [
       "<svg height=\"332pt\" viewBox=\"0.00 0.00 352.49 332.00\" width=\"352pt\" xmlns=\"http://www.w3.org/2000/svg\" xmlns:xlink=\"http://www.w3.org/1999/xlink\">\n",
       "<g class=\"graph\" id=\"graph0\" transform=\"scale(1 1) rotate(0) translate(4 328)\">\n",
       "<title>%3</title>\n",
       "<polygon fill=\"white\" points=\"-4,4 -4,-328 348.493,-328 348.493,4 -4,4\" stroke=\"none\"/>\n",
       "<!-- 1 -->\n",
       "<g class=\"node\" id=\"node1\"><title>1</title>\n",
       "<ellipse cx=\"141.986\" cy=\"-306\" fill=\"none\" rx=\"27\" ry=\"18\" stroke=\"black\"/>\n",
       "<text font-family=\"Times,serif\" font-size=\"14.00\" text-anchor=\"middle\" x=\"141.986\" y=\"-302.3\">7</text>\n",
       "</g>\n",
       "<!-- 2 -->\n",
       "<g class=\"node\" id=\"node2\"><title>2</title>\n",
       "<ellipse cx=\"48.9856\" cy=\"-234\" fill=\"none\" rx=\"27\" ry=\"18\" stroke=\"black\"/>\n",
       "<text font-family=\"Times,serif\" font-size=\"14.00\" text-anchor=\"middle\" x=\"48.9856\" y=\"-230.3\">5</text>\n",
       "</g>\n",
       "<!-- 1&#45;&#45;2 -->\n",
       "<g class=\"edge\" id=\"edge1\"><title>1--2</title>\n",
       "<path d=\"M124.493,-291.834C107.866,-279.319 83.0007,-260.603 66.3998,-248.107\" fill=\"none\" stroke=\"black\"/>\n",
       "</g>\n",
       "<!-- 3 -->\n",
       "<g class=\"node\" id=\"node3\"><title>3</title>\n",
       "<ellipse cx=\"124.986\" cy=\"-162\" fill=\"none\" rx=\"27\" ry=\"18\" stroke=\"black\"/>\n",
       "<text font-family=\"Times,serif\" font-size=\"14.00\" text-anchor=\"middle\" x=\"124.986\" y=\"-158.3\">5</text>\n",
       "</g>\n",
       "<!-- 1&#45;&#45;3 -->\n",
       "<g class=\"edge\" id=\"edge2\"><title>1--3</title>\n",
       "<path d=\"M136.458,-288.017C133.367,-277.717 129.785,-264.241 127.986,-252 124.343,-227.221 124.109,-198.163 124.429,-180.164\" fill=\"none\" stroke=\"black\"/>\n",
       "</g>\n",
       "<!-- 4 -->\n",
       "<g class=\"node\" id=\"node4\"><title>4</title>\n",
       "<ellipse cx=\"40.9856\" cy=\"-90\" fill=\"none\" rx=\"27\" ry=\"18\" stroke=\"black\"/>\n",
       "<text font-family=\"Times,serif\" font-size=\"14.00\" text-anchor=\"middle\" x=\"40.9856\" y=\"-86.3\">4</text>\n",
       "</g>\n",
       "<!-- 1&#45;&#45;4 -->\n",
       "<g class=\"edge\" id=\"edge3\"><title>1--4</title>\n",
       "<path d=\"M115.31,-302.574C84.6894,-298.2 35.7678,-285.99 12.9856,-252 -17.5005,-206.516 13.8952,-138.105 31.1941,-107.189\" fill=\"none\" stroke=\"black\"/>\n",
       "</g>\n",
       "<!-- 5 -->\n",
       "<g class=\"node\" id=\"node5\"><title>5</title>\n",
       "<ellipse cx=\"247.986\" cy=\"-18\" fill=\"none\" rx=\"27\" ry=\"18\" stroke=\"black\"/>\n",
       "<text font-family=\"Times,serif\" font-size=\"14.00\" text-anchor=\"middle\" x=\"247.986\" y=\"-14.3\">3</text>\n",
       "</g>\n",
       "<!-- 1&#45;&#45;5 -->\n",
       "<g class=\"edge\" id=\"edge4\"><title>1--5</title>\n",
       "<path d=\"M168.359,-301.358C214.741,-294.353 307.831,-277.413 326.986,-252 380.076,-181.564 296.114,-73.1553 261.659,-33.8649\" fill=\"none\" stroke=\"black\"/>\n",
       "</g>\n",
       "<!-- 6 -->\n",
       "<g class=\"node\" id=\"node6\"><title>6</title>\n",
       "<ellipse cx=\"247.986\" cy=\"-90\" fill=\"none\" rx=\"27\" ry=\"18\" stroke=\"black\"/>\n",
       "<text font-family=\"Times,serif\" font-size=\"14.00\" text-anchor=\"middle\" x=\"247.986\" y=\"-86.3\">3</text>\n",
       "</g>\n",
       "<!-- 1&#45;&#45;6 -->\n",
       "<g class=\"edge\" id=\"edge5\"><title>1--6</title>\n",
       "<path d=\"M169.174,-305.185C206.838,-303.788 273.769,-294.975 304.986,-252 333.195,-213.164 324.157,-188.005 304.986,-144 297.322,-126.409 280.622,-112.026 267.269,-102.705\" fill=\"none\" stroke=\"black\"/>\n",
       "</g>\n",
       "<!-- 7 -->\n",
       "<g class=\"node\" id=\"node7\"><title>7</title>\n",
       "<ellipse cx=\"268.986\" cy=\"-234\" fill=\"none\" rx=\"27\" ry=\"18\" stroke=\"black\"/>\n",
       "<text font-family=\"Times,serif\" font-size=\"14.00\" text-anchor=\"middle\" x=\"268.986\" y=\"-230.3\">3</text>\n",
       "</g>\n",
       "<!-- 1&#45;&#45;7 -->\n",
       "<g class=\"edge\" id=\"edge6\"><title>1--7</title>\n",
       "<path d=\"M162.109,-293.908C185.75,-280.878 224.755,-259.379 248.536,-246.272\" fill=\"none\" stroke=\"black\"/>\n",
       "</g>\n",
       "<!-- 8 -->\n",
       "<g class=\"node\" id=\"node8\"><title>8</title>\n",
       "<ellipse cx=\"196.986\" cy=\"-162\" fill=\"none\" rx=\"27\" ry=\"18\" stroke=\"black\"/>\n",
       "<text font-family=\"Times,serif\" font-size=\"14.00\" text-anchor=\"middle\" x=\"196.986\" y=\"-158.3\">3</text>\n",
       "</g>\n",
       "<!-- 1&#45;&#45;8 -->\n",
       "<g class=\"edge\" id=\"edge7\"><title>1--8</title>\n",
       "<path d=\"M143.642,-288.012C145.876,-269.654 150.812,-239.83 160.986,-216 166.838,-202.292 176.427,-188.413 184.238,-178.298\" fill=\"none\" stroke=\"black\"/>\n",
       "</g>\n",
       "<!-- 2&#45;&#45;3 -->\n",
       "<g class=\"edge\" id=\"edge8\"><title>2--3</title>\n",
       "<path d=\"M64.3654,-218.834C77.551,-206.69 96.4497,-189.283 109.629,-177.144\" fill=\"none\" stroke=\"black\"/>\n",
       "</g>\n",
       "<!-- 2&#45;&#45;4 -->\n",
       "<g class=\"edge\" id=\"edge9\"><title>2--4</title>\n",
       "<path d=\"M48.0207,-215.871C46.483,-188.578 43.4938,-135.52 41.954,-108.189\" fill=\"none\" stroke=\"black\"/>\n",
       "</g>\n",
       "<!-- 2&#45;&#45;5 -->\n",
       "<g class=\"edge\" id=\"edge11\"><title>2--5</title>\n",
       "<path d=\"M53.9196,-215.949C59.9899,-197 71.6674,-166.155 88.9856,-144 129.316,-92.406 195.27,-49.6442 228.109,-30.2285\" fill=\"none\" stroke=\"black\"/>\n",
       "</g>\n",
       "<!-- 9 -->\n",
       "<g class=\"node\" id=\"node9\"><title>9</title>\n",
       "<ellipse cx=\"40.9856\" cy=\"-18\" fill=\"none\" rx=\"27\" ry=\"18\" stroke=\"black\"/>\n",
       "<text font-family=\"Times,serif\" font-size=\"14.00\" text-anchor=\"middle\" x=\"40.9856\" y=\"-14.3\">3</text>\n",
       "</g>\n",
       "<!-- 2&#45;&#45;9 -->\n",
       "<g class=\"edge\" id=\"edge10\"><title>2--9</title>\n",
       "<path d=\"M38.4932,-216.907C20.8788,-187.82 -11.1964,-124.623 4.98564,-72 9.36665,-57.7531 19.0248,-43.8997 27.2353,-33.9312\" fill=\"none\" stroke=\"black\"/>\n",
       "</g>\n",
       "<!-- 3&#45;&#45;4 -->\n",
       "<g class=\"edge\" id=\"edge12\"><title>3--4</title>\n",
       "<path d=\"M108.79,-147.503C93.9151,-135.108 71.9907,-116.838 57.132,-104.455\" fill=\"none\" stroke=\"black\"/>\n",
       "</g>\n",
       "<!-- 3&#45;&#45;6 -->\n",
       "<g class=\"edge\" id=\"edge14\"><title>3--6</title>\n",
       "<path d=\"M145.021,-149.597C167.894,-136.581 205.089,-115.413 227.958,-102.398\" fill=\"none\" stroke=\"black\"/>\n",
       "</g>\n",
       "<!-- 3&#45;&#45;9 -->\n",
       "<g class=\"edge\" id=\"edge13\"><title>3--9</title>\n",
       "<path d=\"M116.8,-144.644C107.613,-126.575 92.018,-96.7603 76.9856,-72 69.1349,-59.0689 59.4655,-44.9191 52.1253,-34.4949\" fill=\"none\" stroke=\"black\"/>\n",
       "</g>\n",
       "<!-- 4&#45;&#45;9 -->\n",
       "<g class=\"edge\" id=\"edge15\"><title>4--9</title>\n",
       "<path d=\"M40.9856,-71.6966C40.9856,-60.8463 40.9856,-46.9167 40.9856,-36.1043\" fill=\"none\" stroke=\"black\"/>\n",
       "</g>\n",
       "<!-- 6&#45;&#45;5 -->\n",
       "<g class=\"edge\" id=\"edge16\"><title>6--5</title>\n",
       "<path d=\"M247.986,-71.6966C247.986,-60.8463 247.986,-46.9167 247.986,-36.1043\" fill=\"none\" stroke=\"black\"/>\n",
       "</g>\n",
       "<!-- 7&#45;&#45;8 -->\n",
       "<g class=\"edge\" id=\"edge17\"><title>7--8</title>\n",
       "<path d=\"M254.415,-218.834C242.006,-206.77 224.255,-189.512 211.781,-177.385\" fill=\"none\" stroke=\"black\"/>\n",
       "</g>\n",
       "<!-- 10 -->\n",
       "<g class=\"node\" id=\"node10\"><title>10</title>\n",
       "<ellipse cx=\"268.986\" cy=\"-162\" fill=\"none\" rx=\"27\" ry=\"18\" stroke=\"black\"/>\n",
       "<text font-family=\"Times,serif\" font-size=\"14.00\" text-anchor=\"middle\" x=\"268.986\" y=\"-158.3\">2</text>\n",
       "</g>\n",
       "<!-- 7&#45;&#45;10 -->\n",
       "<g class=\"edge\" id=\"edge18\"><title>7--10</title>\n",
       "<path d=\"M268.986,-215.697C268.986,-204.846 268.986,-190.917 268.986,-180.104\" fill=\"none\" stroke=\"black\"/>\n",
       "</g>\n",
       "<!-- 11 -->\n",
       "<g class=\"node\" id=\"node11\"><title>11</title>\n",
       "<ellipse cx=\"196.986\" cy=\"-234\" fill=\"none\" rx=\"27\" ry=\"18\" stroke=\"black\"/>\n",
       "<text font-family=\"Times,serif\" font-size=\"14.00\" text-anchor=\"middle\" x=\"196.986\" y=\"-230.3\">2</text>\n",
       "</g>\n",
       "<!-- 11&#45;&#45;8 -->\n",
       "<g class=\"edge\" id=\"edge19\"><title>11--8</title>\n",
       "<path d=\"M196.986,-215.697C196.986,-204.846 196.986,-190.917 196.986,-180.104\" fill=\"none\" stroke=\"black\"/>\n",
       "</g>\n",
       "<!-- 11&#45;&#45;10 -->\n",
       "<g class=\"edge\" id=\"edge20\"><title>11--10</title>\n",
       "<path d=\"M211.556,-218.834C223.965,-206.77 241.716,-189.512 254.19,-177.385\" fill=\"none\" stroke=\"black\"/>\n",
       "</g>\n",
       "</g>\n",
       "</svg>"
      ],
      "text/plain": [
       "<IPython.core.display.SVG object>"
      ]
     },
     "metadata": {},
     "output_type": "display_data"
    }
   ],
   "source": [
    "Sucesion([7,5,5,4,3,3,3,3,3,2,2]).reconstruccion()"
   ]
  },
  {
   "cell_type": "code",
   "execution_count": 15,
   "metadata": {
    "collapsed": true
   },
   "outputs": [],
   "source": [
    "c = Sucesion([4,3,2,2,1,1,1])"
   ]
  },
  {
   "cell_type": "code",
   "execution_count": 16,
   "metadata": {
    "collapsed": false
   },
   "outputs": [
    {
     "data": {
      "text/plain": [
       "True"
      ]
     },
     "execution_count": 16,
     "metadata": {},
     "output_type": "execute_result"
    }
   ],
   "source": [
    "c.es_grafica()"
   ]
  },
  {
   "cell_type": "code",
   "execution_count": 17,
   "metadata": {
    "collapsed": false
   },
   "outputs": [
    {
     "data": {
      "text/plain": [
       "defaultdict(list, {1: [2, 3, 4, 5], 2: [3, 4], 6: [7]})"
      ]
     },
     "execution_count": 17,
     "metadata": {},
     "output_type": "execute_result"
    }
   ],
   "source": [
    "c.relaciones()"
   ]
  },
  {
   "cell_type": "code",
   "execution_count": 18,
   "metadata": {
    "collapsed": false
   },
   "outputs": [
    {
     "data": {
      "image/svg+xml": [
       "<svg height=\"188pt\" viewBox=\"0.00 0.00 280.00 188.00\" width=\"280pt\" xmlns=\"http://www.w3.org/2000/svg\" xmlns:xlink=\"http://www.w3.org/1999/xlink\">\n",
       "<g class=\"graph\" id=\"graph0\" transform=\"scale(1 1) rotate(0) translate(4 184)\">\n",
       "<title>%3</title>\n",
       "<polygon fill=\"white\" points=\"-4,4 -4,-184 276,-184 276,4 -4,4\" stroke=\"none\"/>\n",
       "<!-- 1 -->\n",
       "<g class=\"node\" id=\"node1\"><title>1</title>\n",
       "<ellipse cx=\"90\" cy=\"-162\" fill=\"none\" rx=\"27\" ry=\"18\" stroke=\"black\"/>\n",
       "<text font-family=\"Times,serif\" font-size=\"14.00\" text-anchor=\"middle\" x=\"90\" y=\"-158.3\">4</text>\n",
       "</g>\n",
       "<!-- 2 -->\n",
       "<g class=\"node\" id=\"node2\"><title>2</title>\n",
       "<ellipse cx=\"63\" cy=\"-90\" fill=\"none\" rx=\"27\" ry=\"18\" stroke=\"black\"/>\n",
       "<text font-family=\"Times,serif\" font-size=\"14.00\" text-anchor=\"middle\" x=\"63\" y=\"-86.3\">3</text>\n",
       "</g>\n",
       "<!-- 1&#45;&#45;2 -->\n",
       "<g class=\"edge\" id=\"edge1\"><title>1--2</title>\n",
       "<path d=\"M83.6014,-144.411C79.3597,-133.414 73.8106,-119.027 69.5403,-107.956\" fill=\"none\" stroke=\"black\"/>\n",
       "</g>\n",
       "<!-- 3 -->\n",
       "<g class=\"node\" id=\"node3\"><title>3</title>\n",
       "<ellipse cx=\"27\" cy=\"-18\" fill=\"none\" rx=\"27\" ry=\"18\" stroke=\"black\"/>\n",
       "<text font-family=\"Times,serif\" font-size=\"14.00\" text-anchor=\"middle\" x=\"27\" y=\"-14.3\">2</text>\n",
       "</g>\n",
       "<!-- 1&#45;&#45;3 -->\n",
       "<g class=\"edge\" id=\"edge2\"><title>1--3</title>\n",
       "<path d=\"M69.3635,-150.157C54.5343,-141.096 35.6865,-126.659 27,-108 16.2401,-84.887 19.3504,-54.5957 22.9212,-35.981\" fill=\"none\" stroke=\"black\"/>\n",
       "</g>\n",
       "<!-- 4 -->\n",
       "<g class=\"node\" id=\"node4\"><title>4</title>\n",
       "<ellipse cx=\"108\" cy=\"-18\" fill=\"none\" rx=\"27\" ry=\"18\" stroke=\"black\"/>\n",
       "<text font-family=\"Times,serif\" font-size=\"14.00\" text-anchor=\"middle\" x=\"108\" y=\"-14.3\">2</text>\n",
       "</g>\n",
       "<!-- 1&#45;&#45;4 -->\n",
       "<g class=\"edge\" id=\"edge3\"><title>1--4</title>\n",
       "<path d=\"M93.2122,-143.859C95.0777,-133.503 97.3731,-120.023 99,-108 102.374,-83.0683 105.081,-54.0506 106.615,-36.1022\" fill=\"none\" stroke=\"black\"/>\n",
       "</g>\n",
       "<!-- 5 -->\n",
       "<g class=\"node\" id=\"node5\"><title>5</title>\n",
       "<ellipse cx=\"173\" cy=\"-90\" fill=\"none\" rx=\"27\" ry=\"18\" stroke=\"black\"/>\n",
       "<text font-family=\"Times,serif\" font-size=\"14.00\" text-anchor=\"middle\" x=\"173\" y=\"-86.3\">1</text>\n",
       "</g>\n",
       "<!-- 1&#45;&#45;5 -->\n",
       "<g class=\"edge\" id=\"edge4\"><title>1--5</title>\n",
       "<path d=\"M106.398,-147.17C121.044,-134.819 142.37,-116.832 156.918,-104.563\" fill=\"none\" stroke=\"black\"/>\n",
       "</g>\n",
       "<!-- 2&#45;&#45;3 -->\n",
       "<g class=\"edge\" id=\"edge5\"><title>2--3</title>\n",
       "<path d=\"M54.6504,-72.7646C48.8345,-61.456 41.1103,-46.4367 35.3043,-35.1473\" fill=\"none\" stroke=\"black\"/>\n",
       "</g>\n",
       "<!-- 2&#45;&#45;4 -->\n",
       "<g class=\"edge\" id=\"edge6\"><title>2--4</title>\n",
       "<path d=\"M73.2112,-73.1159C80.5757,-61.66 90.474,-46.2627 97.8292,-34.8212\" fill=\"none\" stroke=\"black\"/>\n",
       "</g>\n",
       "<!-- 6 -->\n",
       "<g class=\"node\" id=\"node6\"><title>6</title>\n",
       "<ellipse cx=\"245\" cy=\"-162\" fill=\"none\" rx=\"27\" ry=\"18\" stroke=\"black\"/>\n",
       "<text font-family=\"Times,serif\" font-size=\"14.00\" text-anchor=\"middle\" x=\"245\" y=\"-158.3\">1</text>\n",
       "</g>\n",
       "<!-- 7 -->\n",
       "<g class=\"node\" id=\"node7\"><title>7</title>\n",
       "<ellipse cx=\"245\" cy=\"-90\" fill=\"none\" rx=\"27\" ry=\"18\" stroke=\"black\"/>\n",
       "<text font-family=\"Times,serif\" font-size=\"14.00\" text-anchor=\"middle\" x=\"245\" y=\"-86.3\">1</text>\n",
       "</g>\n",
       "<!-- 6&#45;&#45;7 -->\n",
       "<g class=\"edge\" id=\"edge7\"><title>6--7</title>\n",
       "<path d=\"M245,-143.697C245,-132.846 245,-118.917 245,-108.104\" fill=\"none\" stroke=\"black\"/>\n",
       "</g>\n",
       "</g>\n",
       "</svg>"
      ],
      "text/plain": [
       "<IPython.core.display.SVG object>"
      ]
     },
     "metadata": {},
     "output_type": "display_data"
    }
   ],
   "source": [
    "c.reconstruccion()"
   ]
  },
  {
   "cell_type": "markdown",
   "metadata": {
    "collapsed": true
   },
   "source": [
    "## Árboles"
   ]
  },
  {
   "cell_type": "code",
   "execution_count": 19,
   "metadata": {
    "collapsed": true
   },
   "outputs": [],
   "source": [
    "from prufer import Prufer"
   ]
  },
  {
   "cell_type": "markdown",
   "metadata": {},
   "source": [
    "Podemos tanto dato un código construir el árbol"
   ]
  },
  {
   "cell_type": "code",
   "execution_count": 20,
   "metadata": {
    "collapsed": true
   },
   "outputs": [],
   "source": [
    "p = Prufer( (4,4,3,1,7) )"
   ]
  },
  {
   "cell_type": "code",
   "execution_count": 21,
   "metadata": {
    "collapsed": false
   },
   "outputs": [
    {
     "data": {
      "image/svg+xml": [
       "<svg height=\"404pt\" viewBox=\"0.00 0.00 134.00 404.00\" width=\"134pt\" xmlns=\"http://www.w3.org/2000/svg\" xmlns:xlink=\"http://www.w3.org/1999/xlink\">\n",
       "<g class=\"graph\" id=\"graph0\" transform=\"scale(1 1) rotate(0) translate(4 400)\">\n",
       "<title>G</title>\n",
       "<polygon fill=\"white\" points=\"-4,4 -4,-400 130,-400 130,4 -4,4\" stroke=\"none\"/>\n",
       "<!-- 4 -->\n",
       "<g class=\"node\" id=\"node1\"><title>4</title>\n",
       "<ellipse cx=\"63\" cy=\"-90\" fill=\"none\" rx=\"27\" ry=\"18\" stroke=\"black\"/>\n",
       "<text font-family=\"Times,serif\" font-size=\"14.00\" text-anchor=\"middle\" x=\"63\" y=\"-86.3\">4</text>\n",
       "</g>\n",
       "<!-- 2 -->\n",
       "<g class=\"node\" id=\"node2\"><title>2</title>\n",
       "<ellipse cx=\"27\" cy=\"-18\" fill=\"none\" rx=\"27\" ry=\"18\" stroke=\"black\"/>\n",
       "<text font-family=\"Times,serif\" font-size=\"14.00\" text-anchor=\"middle\" x=\"27\" y=\"-14.3\">2</text>\n",
       "</g>\n",
       "<!-- 4&#45;&#45;2 -->\n",
       "<g class=\"edge\" id=\"edge1\"><title>4--2</title>\n",
       "<path d=\"M54.6504,-72.7646C48.8345,-61.456 41.1103,-46.4367 35.3043,-35.1473\" fill=\"none\" stroke=\"black\"/>\n",
       "</g>\n",
       "<!-- 5 -->\n",
       "<g class=\"node\" id=\"node3\"><title>5</title>\n",
       "<ellipse cx=\"99\" cy=\"-18\" fill=\"none\" rx=\"27\" ry=\"18\" stroke=\"black\"/>\n",
       "<text font-family=\"Times,serif\" font-size=\"14.00\" text-anchor=\"middle\" x=\"99\" y=\"-14.3\">5</text>\n",
       "</g>\n",
       "<!-- 4&#45;&#45;5 -->\n",
       "<g class=\"edge\" id=\"edge2\"><title>4--5</title>\n",
       "<path d=\"M71.3496,-72.7646C77.1655,-61.456 84.8897,-46.4367 90.6957,-35.1473\" fill=\"none\" stroke=\"black\"/>\n",
       "</g>\n",
       "<!-- 3 -->\n",
       "<g class=\"node\" id=\"node4\"><title>3</title>\n",
       "<ellipse cx=\"63\" cy=\"-162\" fill=\"none\" rx=\"27\" ry=\"18\" stroke=\"black\"/>\n",
       "<text font-family=\"Times,serif\" font-size=\"14.00\" text-anchor=\"middle\" x=\"63\" y=\"-158.3\">3</text>\n",
       "</g>\n",
       "<!-- 3&#45;&#45;4 -->\n",
       "<g class=\"edge\" id=\"edge3\"><title>3--4</title>\n",
       "<path d=\"M63,-143.697C63,-132.846 63,-118.917 63,-108.104\" fill=\"none\" stroke=\"black\"/>\n",
       "</g>\n",
       "<!-- 1 -->\n",
       "<g class=\"node\" id=\"node5\"><title>1</title>\n",
       "<ellipse cx=\"63\" cy=\"-234\" fill=\"none\" rx=\"27\" ry=\"18\" stroke=\"black\"/>\n",
       "<text font-family=\"Times,serif\" font-size=\"14.00\" text-anchor=\"middle\" x=\"63\" y=\"-230.3\">1</text>\n",
       "</g>\n",
       "<!-- 1&#45;&#45;3 -->\n",
       "<g class=\"edge\" id=\"edge4\"><title>1--3</title>\n",
       "<path d=\"M63,-215.697C63,-204.846 63,-190.917 63,-180.104\" fill=\"none\" stroke=\"black\"/>\n",
       "</g>\n",
       "<!-- 7 -->\n",
       "<g class=\"node\" id=\"node6\"><title>7</title>\n",
       "<ellipse cx=\"63\" cy=\"-306\" fill=\"none\" rx=\"27\" ry=\"18\" stroke=\"black\"/>\n",
       "<text font-family=\"Times,serif\" font-size=\"14.00\" text-anchor=\"middle\" x=\"63\" y=\"-302.3\">7</text>\n",
       "</g>\n",
       "<!-- 7&#45;&#45;1 -->\n",
       "<g class=\"edge\" id=\"edge5\"><title>7--1</title>\n",
       "<path d=\"M63,-287.697C63,-276.846 63,-262.917 63,-252.104\" fill=\"none\" stroke=\"black\"/>\n",
       "</g>\n",
       "<!-- 6 -->\n",
       "<g class=\"node\" id=\"node7\"><title>6</title>\n",
       "<ellipse cx=\"63\" cy=\"-378\" fill=\"none\" rx=\"27\" ry=\"18\" stroke=\"black\"/>\n",
       "<text font-family=\"Times,serif\" font-size=\"14.00\" text-anchor=\"middle\" x=\"63\" y=\"-374.3\">6</text>\n",
       "</g>\n",
       "<!-- 6&#45;&#45;7 -->\n",
       "<g class=\"edge\" id=\"edge6\"><title>6--7</title>\n",
       "<path d=\"M63,-359.697C63,-348.846 63,-334.917 63,-324.104\" fill=\"none\" stroke=\"black\"/>\n",
       "</g>\n",
       "</g>\n",
       "</svg>"
      ],
      "text/plain": [
       "<IPython.core.display.SVG object>"
      ]
     },
     "metadata": {},
     "output_type": "display_data"
    }
   ],
   "source": [
    "p.construir()"
   ]
  },
  {
   "cell_type": "code",
   "execution_count": 22,
   "metadata": {
    "collapsed": true
   },
   "outputs": [],
   "source": [
    "p1 = Prufer( (5,5,1,3,3) )"
   ]
  },
  {
   "cell_type": "code",
   "execution_count": 23,
   "metadata": {
    "collapsed": false
   },
   "outputs": [
    {
     "data": {
      "image/svg+xml": [
       "<svg height=\"260pt\" viewBox=\"0.00 0.00 242.00 260.00\" width=\"242pt\" xmlns=\"http://www.w3.org/2000/svg\" xmlns:xlink=\"http://www.w3.org/1999/xlink\">\n",
       "<g class=\"graph\" id=\"graph0\" transform=\"scale(1 1) rotate(0) translate(4 256)\">\n",
       "<title>G</title>\n",
       "<polygon fill=\"white\" points=\"-4,4 -4,-256 238,-256 238,4 -4,4\" stroke=\"none\"/>\n",
       "<!-- 5 -->\n",
       "<g class=\"node\" id=\"node1\"><title>5</title>\n",
       "<ellipse cx=\"63\" cy=\"-90\" fill=\"none\" rx=\"27\" ry=\"18\" stroke=\"black\"/>\n",
       "<text font-family=\"Times,serif\" font-size=\"14.00\" text-anchor=\"middle\" x=\"63\" y=\"-86.3\">5</text>\n",
       "</g>\n",
       "<!-- 2 -->\n",
       "<g class=\"node\" id=\"node2\"><title>2</title>\n",
       "<ellipse cx=\"27\" cy=\"-18\" fill=\"none\" rx=\"27\" ry=\"18\" stroke=\"black\"/>\n",
       "<text font-family=\"Times,serif\" font-size=\"14.00\" text-anchor=\"middle\" x=\"27\" y=\"-14.3\">2</text>\n",
       "</g>\n",
       "<!-- 5&#45;&#45;2 -->\n",
       "<g class=\"edge\" id=\"edge1\"><title>5--2</title>\n",
       "<path d=\"M54.6504,-72.7646C48.8345,-61.456 41.1103,-46.4367 35.3043,-35.1473\" fill=\"none\" stroke=\"black\"/>\n",
       "</g>\n",
       "<!-- 4 -->\n",
       "<g class=\"node\" id=\"node3\"><title>4</title>\n",
       "<ellipse cx=\"99\" cy=\"-18\" fill=\"none\" rx=\"27\" ry=\"18\" stroke=\"black\"/>\n",
       "<text font-family=\"Times,serif\" font-size=\"14.00\" text-anchor=\"middle\" x=\"99\" y=\"-14.3\">4</text>\n",
       "</g>\n",
       "<!-- 5&#45;&#45;4 -->\n",
       "<g class=\"edge\" id=\"edge2\"><title>5--4</title>\n",
       "<path d=\"M71.3496,-72.7646C77.1655,-61.456 84.8897,-46.4367 90.6957,-35.1473\" fill=\"none\" stroke=\"black\"/>\n",
       "</g>\n",
       "<!-- 1 -->\n",
       "<g class=\"node\" id=\"node4\"><title>1</title>\n",
       "<ellipse cx=\"63\" cy=\"-162\" fill=\"none\" rx=\"27\" ry=\"18\" stroke=\"black\"/>\n",
       "<text font-family=\"Times,serif\" font-size=\"14.00\" text-anchor=\"middle\" x=\"63\" y=\"-158.3\">1</text>\n",
       "</g>\n",
       "<!-- 1&#45;&#45;5 -->\n",
       "<g class=\"edge\" id=\"edge3\"><title>1--5</title>\n",
       "<path d=\"M63,-143.697C63,-132.846 63,-118.917 63,-108.104\" fill=\"none\" stroke=\"black\"/>\n",
       "</g>\n",
       "<!-- 3 -->\n",
       "<g class=\"node\" id=\"node5\"><title>3</title>\n",
       "<ellipse cx=\"135\" cy=\"-234\" fill=\"none\" rx=\"27\" ry=\"18\" stroke=\"black\"/>\n",
       "<text font-family=\"Times,serif\" font-size=\"14.00\" text-anchor=\"middle\" x=\"135\" y=\"-230.3\">3</text>\n",
       "</g>\n",
       "<!-- 3&#45;&#45;1 -->\n",
       "<g class=\"edge\" id=\"edge4\"><title>3--1</title>\n",
       "<path d=\"M120.43,-218.834C108.02,-206.77 90.2694,-189.512 77.7957,-177.385\" fill=\"none\" stroke=\"black\"/>\n",
       "</g>\n",
       "<!-- 6 -->\n",
       "<g class=\"node\" id=\"node6\"><title>6</title>\n",
       "<ellipse cx=\"135\" cy=\"-162\" fill=\"none\" rx=\"27\" ry=\"18\" stroke=\"black\"/>\n",
       "<text font-family=\"Times,serif\" font-size=\"14.00\" text-anchor=\"middle\" x=\"135\" y=\"-158.3\">6</text>\n",
       "</g>\n",
       "<!-- 3&#45;&#45;6 -->\n",
       "<g class=\"edge\" id=\"edge5\"><title>3--6</title>\n",
       "<path d=\"M135,-215.697C135,-204.846 135,-190.917 135,-180.104\" fill=\"none\" stroke=\"black\"/>\n",
       "</g>\n",
       "<!-- 7 -->\n",
       "<g class=\"node\" id=\"node7\"><title>7</title>\n",
       "<ellipse cx=\"207\" cy=\"-162\" fill=\"none\" rx=\"27\" ry=\"18\" stroke=\"black\"/>\n",
       "<text font-family=\"Times,serif\" font-size=\"14.00\" text-anchor=\"middle\" x=\"207\" y=\"-158.3\">7</text>\n",
       "</g>\n",
       "<!-- 3&#45;&#45;7 -->\n",
       "<g class=\"edge\" id=\"edge6\"><title>3--7</title>\n",
       "<path d=\"M149.57,-218.834C161.98,-206.77 179.731,-189.512 192.204,-177.385\" fill=\"none\" stroke=\"black\"/>\n",
       "</g>\n",
       "</g>\n",
       "</svg>"
      ],
      "text/plain": [
       "<IPython.core.display.SVG object>"
      ]
     },
     "metadata": {},
     "output_type": "display_data"
    }
   ],
   "source": [
    "p1.construir()"
   ]
  },
  {
   "cell_type": "markdown",
   "metadata": {},
   "source": [
    "Como dado el árbol en forma de diccionario obtener su código"
   ]
  },
  {
   "cell_type": "code",
   "execution_count": 24,
   "metadata": {
    "collapsed": true
   },
   "outputs": [],
   "source": [
    "p2 = Prufer({5:[4,2], 1:[5,3], 3:[6,7]})"
   ]
  },
  {
   "cell_type": "code",
   "execution_count": 25,
   "metadata": {
    "collapsed": false
   },
   "outputs": [
    {
     "data": {
      "text/plain": [
       "[5, 5, 1, 3, 3]"
      ]
     },
     "execution_count": 25,
     "metadata": {},
     "output_type": "execute_result"
    }
   ],
   "source": [
    "p2.codigo()"
   ]
  },
  {
   "cell_type": "code",
   "execution_count": 26,
   "metadata": {
    "collapsed": true
   },
   "outputs": [],
   "source": [
    "p3 = Prufer( {4:[5,2], 3:[4], 1:[3], 7:[1], 6:[7]} )"
   ]
  },
  {
   "cell_type": "code",
   "execution_count": 27,
   "metadata": {
    "collapsed": false
   },
   "outputs": [
    {
     "data": {
      "text/plain": [
       "[4, 4, 3, 1, 7]"
      ]
     },
     "execution_count": 27,
     "metadata": {},
     "output_type": "execute_result"
    }
   ],
   "source": [
    "p3.codigo()"
   ]
  }
 ],
 "metadata": {
  "kernelspec": {
   "display_name": "Python 3",
   "language": "python",
   "name": "python3"
  },
  "language_info": {
   "codemirror_mode": {
    "name": "ipython",
    "version": 3
   },
   "file_extension": ".py",
   "mimetype": "text/x-python",
   "name": "python",
   "nbconvert_exporter": "python",
   "pygments_lexer": "ipython3",
   "version": "3.5.2"
  }
 },
 "nbformat": 4,
 "nbformat_minor": 2
}
